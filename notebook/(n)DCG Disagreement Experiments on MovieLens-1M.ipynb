{
 "cells": [
  {
   "cell_type": "code",
   "execution_count": 1,
   "id": "1088db9f",
   "metadata": {},
   "outputs": [],
   "source": [
    "import matplotlib as mpl\n",
    "import matplotlib.pyplot as plt\n",
    "import numpy as np\n",
    "import recpack\n",
    "from recpack.datasets import MovieLens1M\n",
    "from recpack.pipelines import PipelineBuilder\n",
    "from recpack.scenarios import WeakGeneralization\n",
    "from scipy.stats import kendalltau, linregress, pearsonr\n",
    "from tqdm.notebook import tqdm"
   ]
  },
  {
   "cell_type": "code",
   "execution_count": 2,
   "id": "368b9cc4",
   "metadata": {},
   "outputs": [],
   "source": [
    "def init_latex_plots():\n",
    "    new_rc_params = {'text.usetex': True,\n",
    "        'svg.fonttype': 'none',\n",
    "        'font.family': 'Linux Libertine',\n",
    "        'text.latex.preamble': r'\\usepackage{libertine}\\usepackage{amsmath}',\n",
    "        'mathtext.fontset': 'custom',\n",
    "        'mathtext.rm': 'libertine',\n",
    "        'mathtext.it': 'libertine:italic',\n",
    "        'mathtext.bf': 'libertine:bold'\n",
    "        }\n",
    "    mpl.rcParams.update(new_rc_params)\n",
    "    plt.rc('axes', axisbelow=True)\n",
    "init_latex_plots()"
   ]
  },
  {
   "cell_type": "code",
   "execution_count": 3,
   "id": "ff6e0f90",
   "metadata": {},
   "outputs": [
    {
     "name": "stderr",
     "output_type": "stream",
     "text": [
      "/Users/olivierjeunen/Library/Python/3.9/lib/python/site-packages/recpack/datasets/movielens.py:252: ParserWarning: Falling back to the 'python' engine because the 'c' engine does not support regex separators (separators > 1 char and different from '\\s+' are interpreted as regex); you can avoid this warning by specifying engine='python'.\n",
      "  df = pd.read_table(\n"
     ]
    },
    {
     "data": {
      "application/vnd.jupyter.widget-view+json": {
       "model_id": "cc59f0bd11c34a918b42707e34f0c543",
       "version_major": 2,
       "version_minor": 0
      },
      "text/plain": [
       "  0%|          | 0/574385 [00:00<?, ?it/s]"
      ]
     },
     "metadata": {},
     "output_type": "display_data"
    },
    {
     "data": {
      "application/vnd.jupyter.widget-view+json": {
       "model_id": "a881f3f8bd874ddfb91b98d722ef9cb0",
       "version_major": 2,
       "version_minor": 0
      },
      "text/plain": [
       "  0%|          | 0/574385 [00:00<?, ?it/s]"
      ]
     },
     "metadata": {},
     "output_type": "display_data"
    }
   ],
   "source": [
    "# Folder needs to exist, file will be downloaded if not present\n",
    "# This can take a while\n",
    "ml_loader = MovieLens1M(path='../data/', filename='ml-1M.csv')\n",
    "data = ml_loader.load()"
   ]
  },
  {
   "cell_type": "code",
   "execution_count": 4,
   "id": "d13c4951",
   "metadata": {},
   "outputs": [
    {
     "data": {
      "application/vnd.jupyter.widget-view+json": {
       "model_id": "9aed55d48b9c43b681125eb6f64f45ba",
       "version_major": 2,
       "version_minor": 0
      },
      "text/plain": [
       "0it [00:00, ?it/s]"
      ]
     },
     "metadata": {},
     "output_type": "display_data"
    }
   ],
   "source": [
    "seeds = np.arange(1)\n",
    "scenarios = []\n",
    "for seed in seeds:\n",
    "    scenario = WeakGeneralization(0.5, validation=False, seed=seed)\n",
    "    scenario.split(data)\n",
    "    scenarios.append(scenario)"
   ]
  },
  {
   "cell_type": "code",
   "execution_count": 5,
   "id": "f0a89eeb",
   "metadata": {},
   "outputs": [],
   "source": [
    "def run_pipeline(scenario, K):   \n",
    "    builder = PipelineBuilder()\n",
    "    \n",
    "    for KUNN_k_u in np.linspace(70, 110, 9):\n",
    "        for KUNN_k_i in np.linspace(70, 110, 9):\n",
    "            builder.add_algorithm('KUNN', params={'Ku': int(KUNN_k_u), 'Ki': int(KUNN_k_i)})\n",
    "\n",
    "    for l2 in np.linspace(500, 1600, 111):\n",
    "        builder.add_algorithm('EASE', params={'l2': l2})\n",
    "        \n",
    "    builder.set_optimisation_metric('NDCGK', K=K)\n",
    "    builder.add_metric('NDCGK', K=K)\n",
    "    builder.add_metric('DCGK', K=K)\n",
    "    builder.set_data_from_scenario(scenario)\n",
    "    pipeline = builder.build()\n",
    "    pipeline.run()\n",
    "\n",
    "    return pipeline.get_metrics()\n",
    "\n",
    "def collect_metrics(scenarios, K):\n",
    "    dfs = [run_pipeline(scenario, K) for scenario in tqdm(scenarios)]\n",
    "    \n",
    "    x_ease = []\n",
    "    y_ease = []\n",
    "    x_kunn = []\n",
    "    y_kunn = []\n",
    "    for df in tqdm(dfs):\n",
    "        display(df)\n",
    "        for row in df.itertuples():\n",
    "                        \n",
    "            if row.Index[:4] == 'KUNN':\n",
    "                x_kunn.append(getattr(row, f'DCGK_{K}'))\n",
    "                y_kunn.append(getattr(row, f'NDCGK_{K}'))\n",
    "            elif row.Index[:4] == 'EASE':\n",
    "                x_ease.append(getattr(row, f'DCGK_{K}'))\n",
    "                y_ease.append(getattr(row, f'NDCGK_{K}'))\n",
    "\n",
    "    fontsize = 18\n",
    "    figsize = (6.5,3)\n",
    "    \n",
    "    fig, ax = plt.subplots(figsize=figsize)\n",
    "    \n",
    "    plt.scatter(x_ease, y_ease, color='maroon', marker='x', s=50, alpha=.75, label = r'\\textsc{ease}\\textsuperscript{r}')\n",
    "    plt.scatter(x_kunn, y_kunn, color='darkgreen', marker='o', s=50, alpha=.75, label = r'\\textsc{kunn}')\n",
    "    \n",
    "    x = x_ease + x_kunn\n",
    "    y = y_ease + y_kunn\n",
    "    \n",
    "    lr = linregress(x, y)\n",
    "    x_min, x_max = plt.gca().get_xlim()\n",
    "    y_min, y_max = plt.gca().get_ylim()\n",
    "    \n",
    "    lr_y_min = lr.intercept + lr.slope * x_min\n",
    "    lr_y_max = lr.intercept + lr.slope * x_max\n",
    "    \n",
    "    plt.plot([x_min, x_max], [lr_y_min, lr_y_max], ls='--', color='black', alpha=.9, label='Trend')\n",
    "    \n",
    "    plt.xlim(x_min, x_max)\n",
    "    plt.ylim(y_min, y_max)\n",
    "    \n",
    "    plt.xlabel(fr'DCG@{K}', fontsize=fontsize-2)\n",
    "    plt.ylabel(fr'nDCG@{K}', fontsize=fontsize-2)\n",
    "    \n",
    "    plt.grid(True, 'major', 'both', ls='--', lw=.5, c='k', alpha=.3)\n",
    "    \n",
    "    # Empirical P(Disagreement)\n",
    "    N_corr = 0\n",
    "    N_incorr = 0\n",
    "    for x1, y1 in zip(x, y):\n",
    "        for x2, y2 in zip(x, y):\n",
    "            if x1 < x2 and y1 <= y2:\n",
    "                N_corr += 1\n",
    "            elif x1 > x2 and y1 >= y2:\n",
    "                N_corr += 1\n",
    "            elif x1 == x2 and y1 == y2:\n",
    "                continue\n",
    "            elif x1 == x2 and y1 != y2:\n",
    "                N_incorr += 1\n",
    "            else:\n",
    "                N_incorr += 1\n",
    "    P_disagreement = N_incorr / (N_corr + N_incorr)\n",
    "    plt.title(r'Empirical $\\mathsf{P}({\\rm disagreement}) \\approx' + f'{P_disagreement*100:.2f}\\%' + '$', fontsize=fontsize)\n",
    "    for tick in ax.xaxis.get_major_ticks():\n",
    "        tick.label1.set_fontsize(fontsize - 4) \n",
    "    for tick in ax.yaxis.get_major_ticks():\n",
    "        tick.label1.set_fontsize(fontsize - 4) \n",
    "\n",
    "    plt.legend(fontsize=fontsize-2)\n",
    "    plt.savefig('nDCG_disagreement_ML1M.pdf', bbox_inches='tight')\n",
    "    plt.show()\n",
    "    \n",
    "    return x, y"
   ]
  },
  {
   "cell_type": "code",
   "execution_count": 6,
   "id": "e14afb07",
   "metadata": {
    "scrolled": false
   },
   "outputs": [
    {
     "data": {
      "application/vnd.jupyter.widget-view+json": {
       "model_id": "b5e666a2b073476c8c5e68fb3252057b",
       "version_major": 2,
       "version_minor": 0
      },
      "text/plain": [
       "  0%|          | 0/1 [00:00<?, ?it/s]"
      ]
     },
     "metadata": {},
     "output_type": "display_data"
    },
    {
     "data": {
      "application/vnd.jupyter.widget-view+json": {
       "model_id": "dfc0cb796bf248a1a83a8d56395d21bc",
       "version_major": 2,
       "version_minor": 0
      },
      "text/plain": [
       "  0%|          | 0/192 [00:00<?, ?it/s]"
      ]
     },
     "metadata": {},
     "output_type": "display_data"
    },
    {
     "name": "stdout",
     "output_type": "stream",
     "text": [
      "2023-11-15 10:07:43,146 - base - recpack - INFO - Fitting KUNN complete - Took 0.31s\n"
     ]
    },
    {
     "name": "stderr",
     "output_type": "stream",
     "text": [
      "/Users/olivierjeunen/Library/Python/3.9/lib/python/site-packages/scipy/sparse/_index.py:146: SparseEfficiencyWarning: Changing the sparsity structure of a csr_matrix is expensive. lil_matrix is more efficient.\n",
      "  self._set_arrayXarray(i, j, x)\n",
      "/Users/olivierjeunen/Library/Python/3.9/lib/python/site-packages/scipy/sparse/_index.py:146: SparseEfficiencyWarning: Changing the sparsity structure of a csr_matrix is expensive. lil_matrix is more efficient.\n",
      "  self._set_arrayXarray(i, j, x)\n"
     ]
    },
    {
     "name": "stdout",
     "output_type": "stream",
     "text": [
      "2023-11-15 10:07:50,393 - base - recpack - INFO - Fitting KUNN complete - Took 0.288s\n"
     ]
    },
    {
     "name": "stderr",
     "output_type": "stream",
     "text": [
      "/Users/olivierjeunen/Library/Python/3.9/lib/python/site-packages/scipy/sparse/_index.py:146: SparseEfficiencyWarning: Changing the sparsity structure of a csr_matrix is expensive. lil_matrix is more efficient.\n",
      "  self._set_arrayXarray(i, j, x)\n",
      "/Users/olivierjeunen/Library/Python/3.9/lib/python/site-packages/scipy/sparse/_index.py:146: SparseEfficiencyWarning: Changing the sparsity structure of a csr_matrix is expensive. lil_matrix is more efficient.\n",
      "  self._set_arrayXarray(i, j, x)\n"
     ]
    },
    {
     "name": "stdout",
     "output_type": "stream",
     "text": [
      "2023-11-15 10:07:57,556 - base - recpack - INFO - Fitting KUNN complete - Took 0.295s\n"
     ]
    },
    {
     "name": "stderr",
     "output_type": "stream",
     "text": [
      "/Users/olivierjeunen/Library/Python/3.9/lib/python/site-packages/scipy/sparse/_index.py:146: SparseEfficiencyWarning: Changing the sparsity structure of a csr_matrix is expensive. lil_matrix is more efficient.\n",
      "  self._set_arrayXarray(i, j, x)\n",
      "/Users/olivierjeunen/Library/Python/3.9/lib/python/site-packages/scipy/sparse/_index.py:146: SparseEfficiencyWarning: Changing the sparsity structure of a csr_matrix is expensive. lil_matrix is more efficient.\n",
      "  self._set_arrayXarray(i, j, x)\n"
     ]
    },
    {
     "name": "stdout",
     "output_type": "stream",
     "text": [
      "2023-11-15 10:08:04,837 - base - recpack - INFO - Fitting KUNN complete - Took 0.309s\n"
     ]
    },
    {
     "name": "stderr",
     "output_type": "stream",
     "text": [
      "/Users/olivierjeunen/Library/Python/3.9/lib/python/site-packages/scipy/sparse/_index.py:146: SparseEfficiencyWarning: Changing the sparsity structure of a csr_matrix is expensive. lil_matrix is more efficient.\n",
      "  self._set_arrayXarray(i, j, x)\n",
      "/Users/olivierjeunen/Library/Python/3.9/lib/python/site-packages/scipy/sparse/_index.py:146: SparseEfficiencyWarning: Changing the sparsity structure of a csr_matrix is expensive. lil_matrix is more efficient.\n",
      "  self._set_arrayXarray(i, j, x)\n"
     ]
    },
    {
     "name": "stdout",
     "output_type": "stream",
     "text": [
      "2023-11-15 10:08:12,058 - base - recpack - INFO - Fitting KUNN complete - Took 0.31s\n"
     ]
    },
    {
     "name": "stderr",
     "output_type": "stream",
     "text": [
      "/Users/olivierjeunen/Library/Python/3.9/lib/python/site-packages/scipy/sparse/_index.py:146: SparseEfficiencyWarning: Changing the sparsity structure of a csr_matrix is expensive. lil_matrix is more efficient.\n",
      "  self._set_arrayXarray(i, j, x)\n",
      "/Users/olivierjeunen/Library/Python/3.9/lib/python/site-packages/scipy/sparse/_index.py:146: SparseEfficiencyWarning: Changing the sparsity structure of a csr_matrix is expensive. lil_matrix is more efficient.\n",
      "  self._set_arrayXarray(i, j, x)\n"
     ]
    },
    {
     "name": "stdout",
     "output_type": "stream",
     "text": [
      "2023-11-15 10:08:19,305 - base - recpack - INFO - Fitting KUNN complete - Took 0.315s\n"
     ]
    },
    {
     "name": "stderr",
     "output_type": "stream",
     "text": [
      "/Users/olivierjeunen/Library/Python/3.9/lib/python/site-packages/scipy/sparse/_index.py:146: SparseEfficiencyWarning: Changing the sparsity structure of a csr_matrix is expensive. lil_matrix is more efficient.\n",
      "  self._set_arrayXarray(i, j, x)\n",
      "/Users/olivierjeunen/Library/Python/3.9/lib/python/site-packages/scipy/sparse/_index.py:146: SparseEfficiencyWarning: Changing the sparsity structure of a csr_matrix is expensive. lil_matrix is more efficient.\n",
      "  self._set_arrayXarray(i, j, x)\n"
     ]
    },
    {
     "name": "stdout",
     "output_type": "stream",
     "text": [
      "2023-11-15 10:08:26,459 - base - recpack - INFO - Fitting KUNN complete - Took 0.323s\n"
     ]
    },
    {
     "name": "stderr",
     "output_type": "stream",
     "text": [
      "/Users/olivierjeunen/Library/Python/3.9/lib/python/site-packages/scipy/sparse/_index.py:146: SparseEfficiencyWarning: Changing the sparsity structure of a csr_matrix is expensive. lil_matrix is more efficient.\n",
      "  self._set_arrayXarray(i, j, x)\n",
      "/Users/olivierjeunen/Library/Python/3.9/lib/python/site-packages/scipy/sparse/_index.py:146: SparseEfficiencyWarning: Changing the sparsity structure of a csr_matrix is expensive. lil_matrix is more efficient.\n",
      "  self._set_arrayXarray(i, j, x)\n",
      "/Users/olivierjeunen/Library/Python/3.9/lib/python/site-packages/scipy/sparse/_index.py:146: SparseEfficiencyWarning: Changing the sparsity structure of a csr_matrix is expensive. lil_matrix is more efficient.\n",
      "  self._set_arrayXarray(i, j, x)\n"
     ]
    },
    {
     "name": "stdout",
     "output_type": "stream",
     "text": [
      "2023-11-15 10:08:33,699 - base - recpack - INFO - Fitting KUNN complete - Took 0.332s\n"
     ]
    },
    {
     "name": "stderr",
     "output_type": "stream",
     "text": [
      "/Users/olivierjeunen/Library/Python/3.9/lib/python/site-packages/scipy/sparse/_index.py:146: SparseEfficiencyWarning: Changing the sparsity structure of a csr_matrix is expensive. lil_matrix is more efficient.\n",
      "  self._set_arrayXarray(i, j, x)\n",
      "/Users/olivierjeunen/Library/Python/3.9/lib/python/site-packages/scipy/sparse/_index.py:146: SparseEfficiencyWarning: Changing the sparsity structure of a csr_matrix is expensive. lil_matrix is more efficient.\n",
      "  self._set_arrayXarray(i, j, x)\n"
     ]
    },
    {
     "name": "stdout",
     "output_type": "stream",
     "text": [
      "2023-11-15 10:08:41,051 - base - recpack - INFO - Fitting KUNN complete - Took 0.345s\n"
     ]
    },
    {
     "name": "stderr",
     "output_type": "stream",
     "text": [
      "/Users/olivierjeunen/Library/Python/3.9/lib/python/site-packages/scipy/sparse/_index.py:146: SparseEfficiencyWarning: Changing the sparsity structure of a csr_matrix is expensive. lil_matrix is more efficient.\n",
      "  self._set_arrayXarray(i, j, x)\n"
     ]
    },
    {
     "name": "stdout",
     "output_type": "stream",
     "text": [
      "2023-11-15 10:08:48,353 - base - recpack - INFO - Fitting KUNN complete - Took 0.277s\n"
     ]
    },
    {
     "name": "stderr",
     "output_type": "stream",
     "text": [
      "/Users/olivierjeunen/Library/Python/3.9/lib/python/site-packages/scipy/sparse/_index.py:146: SparseEfficiencyWarning: Changing the sparsity structure of a csr_matrix is expensive. lil_matrix is more efficient.\n",
      "  self._set_arrayXarray(i, j, x)\n",
      "/Users/olivierjeunen/Library/Python/3.9/lib/python/site-packages/scipy/sparse/_index.py:146: SparseEfficiencyWarning: Changing the sparsity structure of a csr_matrix is expensive. lil_matrix is more efficient.\n",
      "  self._set_arrayXarray(i, j, x)\n"
     ]
    },
    {
     "name": "stdout",
     "output_type": "stream",
     "text": [
      "2023-11-15 10:08:55,245 - base - recpack - INFO - Fitting KUNN complete - Took 0.289s\n"
     ]
    },
    {
     "name": "stderr",
     "output_type": "stream",
     "text": [
      "/Users/olivierjeunen/Library/Python/3.9/lib/python/site-packages/scipy/sparse/_index.py:146: SparseEfficiencyWarning: Changing the sparsity structure of a csr_matrix is expensive. lil_matrix is more efficient.\n",
      "  self._set_arrayXarray(i, j, x)\n",
      "/Users/olivierjeunen/Library/Python/3.9/lib/python/site-packages/scipy/sparse/_index.py:146: SparseEfficiencyWarning: Changing the sparsity structure of a csr_matrix is expensive. lil_matrix is more efficient.\n",
      "  self._set_arrayXarray(i, j, x)\n"
     ]
    },
    {
     "name": "stdout",
     "output_type": "stream",
     "text": [
      "2023-11-15 10:09:02,081 - base - recpack - INFO - Fitting KUNN complete - Took 0.291s\n"
     ]
    },
    {
     "name": "stderr",
     "output_type": "stream",
     "text": [
      "/Users/olivierjeunen/Library/Python/3.9/lib/python/site-packages/scipy/sparse/_index.py:146: SparseEfficiencyWarning: Changing the sparsity structure of a csr_matrix is expensive. lil_matrix is more efficient.\n",
      "  self._set_arrayXarray(i, j, x)\n",
      "/Users/olivierjeunen/Library/Python/3.9/lib/python/site-packages/scipy/sparse/_index.py:146: SparseEfficiencyWarning: Changing the sparsity structure of a csr_matrix is expensive. lil_matrix is more efficient.\n",
      "  self._set_arrayXarray(i, j, x)\n"
     ]
    },
    {
     "name": "stdout",
     "output_type": "stream",
     "text": [
      "2023-11-15 10:09:09,195 - base - recpack - INFO - Fitting KUNN complete - Took 0.298s\n"
     ]
    },
    {
     "name": "stderr",
     "output_type": "stream",
     "text": [
      "/Users/olivierjeunen/Library/Python/3.9/lib/python/site-packages/scipy/sparse/_index.py:146: SparseEfficiencyWarning: Changing the sparsity structure of a csr_matrix is expensive. lil_matrix is more efficient.\n",
      "  self._set_arrayXarray(i, j, x)\n",
      "/Users/olivierjeunen/Library/Python/3.9/lib/python/site-packages/scipy/sparse/_index.py:146: SparseEfficiencyWarning: Changing the sparsity structure of a csr_matrix is expensive. lil_matrix is more efficient.\n",
      "  self._set_arrayXarray(i, j, x)\n"
     ]
    },
    {
     "name": "stdout",
     "output_type": "stream",
     "text": [
      "2023-11-15 10:09:16,443 - base - recpack - INFO - Fitting KUNN complete - Took 0.304s\n"
     ]
    },
    {
     "name": "stderr",
     "output_type": "stream",
     "text": [
      "/Users/olivierjeunen/Library/Python/3.9/lib/python/site-packages/scipy/sparse/_index.py:146: SparseEfficiencyWarning: Changing the sparsity structure of a csr_matrix is expensive. lil_matrix is more efficient.\n",
      "  self._set_arrayXarray(i, j, x)\n",
      "/Users/olivierjeunen/Library/Python/3.9/lib/python/site-packages/scipy/sparse/_index.py:146: SparseEfficiencyWarning: Changing the sparsity structure of a csr_matrix is expensive. lil_matrix is more efficient.\n",
      "  self._set_arrayXarray(i, j, x)\n"
     ]
    },
    {
     "name": "stdout",
     "output_type": "stream",
     "text": [
      "2023-11-15 10:09:23,681 - base - recpack - INFO - Fitting KUNN complete - Took 0.313s\n"
     ]
    },
    {
     "name": "stderr",
     "output_type": "stream",
     "text": [
      "/Users/olivierjeunen/Library/Python/3.9/lib/python/site-packages/scipy/sparse/_index.py:146: SparseEfficiencyWarning: Changing the sparsity structure of a csr_matrix is expensive. lil_matrix is more efficient.\n",
      "  self._set_arrayXarray(i, j, x)\n",
      "/Users/olivierjeunen/Library/Python/3.9/lib/python/site-packages/scipy/sparse/_index.py:146: SparseEfficiencyWarning: Changing the sparsity structure of a csr_matrix is expensive. lil_matrix is more efficient.\n",
      "  self._set_arrayXarray(i, j, x)\n"
     ]
    },
    {
     "name": "stdout",
     "output_type": "stream",
     "text": [
      "2023-11-15 10:09:30,982 - base - recpack - INFO - Fitting KUNN complete - Took 0.326s\n"
     ]
    },
    {
     "name": "stderr",
     "output_type": "stream",
     "text": [
      "/Users/olivierjeunen/Library/Python/3.9/lib/python/site-packages/scipy/sparse/_index.py:146: SparseEfficiencyWarning: Changing the sparsity structure of a csr_matrix is expensive. lil_matrix is more efficient.\n",
      "  self._set_arrayXarray(i, j, x)\n",
      "/Users/olivierjeunen/Library/Python/3.9/lib/python/site-packages/scipy/sparse/_index.py:146: SparseEfficiencyWarning: Changing the sparsity structure of a csr_matrix is expensive. lil_matrix is more efficient.\n",
      "  self._set_arrayXarray(i, j, x)\n",
      "/Users/olivierjeunen/Library/Python/3.9/lib/python/site-packages/scipy/sparse/_index.py:146: SparseEfficiencyWarning: Changing the sparsity structure of a csr_matrix is expensive. lil_matrix is more efficient.\n",
      "  self._set_arrayXarray(i, j, x)\n"
     ]
    },
    {
     "name": "stdout",
     "output_type": "stream",
     "text": [
      "2023-11-15 10:09:38,313 - base - recpack - INFO - Fitting KUNN complete - Took 0.335s\n"
     ]
    },
    {
     "name": "stderr",
     "output_type": "stream",
     "text": [
      "/Users/olivierjeunen/Library/Python/3.9/lib/python/site-packages/scipy/sparse/_index.py:146: SparseEfficiencyWarning: Changing the sparsity structure of a csr_matrix is expensive. lil_matrix is more efficient.\n",
      "  self._set_arrayXarray(i, j, x)\n",
      "/Users/olivierjeunen/Library/Python/3.9/lib/python/site-packages/scipy/sparse/_index.py:146: SparseEfficiencyWarning: Changing the sparsity structure of a csr_matrix is expensive. lil_matrix is more efficient.\n",
      "  self._set_arrayXarray(i, j, x)\n"
     ]
    },
    {
     "name": "stdout",
     "output_type": "stream",
     "text": [
      "2023-11-15 10:09:45,616 - base - recpack - INFO - Fitting KUNN complete - Took 0.341s\n"
     ]
    },
    {
     "name": "stderr",
     "output_type": "stream",
     "text": [
      "/Users/olivierjeunen/Library/Python/3.9/lib/python/site-packages/scipy/sparse/_index.py:146: SparseEfficiencyWarning: Changing the sparsity structure of a csr_matrix is expensive. lil_matrix is more efficient.\n",
      "  self._set_arrayXarray(i, j, x)\n"
     ]
    },
    {
     "name": "stdout",
     "output_type": "stream",
     "text": [
      "2023-11-15 10:09:53,065 - base - recpack - INFO - Fitting KUNN complete - Took 0.278s\n"
     ]
    },
    {
     "name": "stderr",
     "output_type": "stream",
     "text": [
      "/Users/olivierjeunen/Library/Python/3.9/lib/python/site-packages/scipy/sparse/_index.py:146: SparseEfficiencyWarning: Changing the sparsity structure of a csr_matrix is expensive. lil_matrix is more efficient.\n",
      "  self._set_arrayXarray(i, j, x)\n",
      "/Users/olivierjeunen/Library/Python/3.9/lib/python/site-packages/scipy/sparse/_index.py:146: SparseEfficiencyWarning: Changing the sparsity structure of a csr_matrix is expensive. lil_matrix is more efficient.\n",
      "  self._set_arrayXarray(i, j, x)\n"
     ]
    },
    {
     "name": "stdout",
     "output_type": "stream",
     "text": [
      "2023-11-15 10:10:00,115 - base - recpack - INFO - Fitting KUNN complete - Took 0.281s\n"
     ]
    },
    {
     "name": "stderr",
     "output_type": "stream",
     "text": [
      "/Users/olivierjeunen/Library/Python/3.9/lib/python/site-packages/scipy/sparse/_index.py:146: SparseEfficiencyWarning: Changing the sparsity structure of a csr_matrix is expensive. lil_matrix is more efficient.\n",
      "  self._set_arrayXarray(i, j, x)\n",
      "/Users/olivierjeunen/Library/Python/3.9/lib/python/site-packages/scipy/sparse/_index.py:146: SparseEfficiencyWarning: Changing the sparsity structure of a csr_matrix is expensive. lil_matrix is more efficient.\n",
      "  self._set_arrayXarray(i, j, x)\n"
     ]
    },
    {
     "name": "stdout",
     "output_type": "stream",
     "text": [
      "2023-11-15 10:10:07,221 - base - recpack - INFO - Fitting KUNN complete - Took 0.288s\n"
     ]
    },
    {
     "name": "stderr",
     "output_type": "stream",
     "text": [
      "/Users/olivierjeunen/Library/Python/3.9/lib/python/site-packages/scipy/sparse/_index.py:146: SparseEfficiencyWarning: Changing the sparsity structure of a csr_matrix is expensive. lil_matrix is more efficient.\n",
      "  self._set_arrayXarray(i, j, x)\n",
      "/Users/olivierjeunen/Library/Python/3.9/lib/python/site-packages/scipy/sparse/_index.py:146: SparseEfficiencyWarning: Changing the sparsity structure of a csr_matrix is expensive. lil_matrix is more efficient.\n",
      "  self._set_arrayXarray(i, j, x)\n"
     ]
    },
    {
     "name": "stdout",
     "output_type": "stream",
     "text": [
      "2023-11-15 10:10:14,453 - base - recpack - INFO - Fitting KUNN complete - Took 0.301s\n"
     ]
    },
    {
     "name": "stderr",
     "output_type": "stream",
     "text": [
      "/Users/olivierjeunen/Library/Python/3.9/lib/python/site-packages/scipy/sparse/_index.py:146: SparseEfficiencyWarning: Changing the sparsity structure of a csr_matrix is expensive. lil_matrix is more efficient.\n",
      "  self._set_arrayXarray(i, j, x)\n",
      "/Users/olivierjeunen/Library/Python/3.9/lib/python/site-packages/scipy/sparse/_index.py:146: SparseEfficiencyWarning: Changing the sparsity structure of a csr_matrix is expensive. lil_matrix is more efficient.\n",
      "  self._set_arrayXarray(i, j, x)\n"
     ]
    },
    {
     "name": "stdout",
     "output_type": "stream",
     "text": [
      "2023-11-15 10:10:21,518 - base - recpack - INFO - Fitting KUNN complete - Took 0.307s\n"
     ]
    },
    {
     "name": "stderr",
     "output_type": "stream",
     "text": [
      "/Users/olivierjeunen/Library/Python/3.9/lib/python/site-packages/scipy/sparse/_index.py:146: SparseEfficiencyWarning: Changing the sparsity structure of a csr_matrix is expensive. lil_matrix is more efficient.\n",
      "  self._set_arrayXarray(i, j, x)\n",
      "/Users/olivierjeunen/Library/Python/3.9/lib/python/site-packages/scipy/sparse/_index.py:146: SparseEfficiencyWarning: Changing the sparsity structure of a csr_matrix is expensive. lil_matrix is more efficient.\n",
      "  self._set_arrayXarray(i, j, x)\n"
     ]
    },
    {
     "name": "stdout",
     "output_type": "stream",
     "text": [
      "2023-11-15 10:10:28,907 - base - recpack - INFO - Fitting KUNN complete - Took 0.312s\n"
     ]
    },
    {
     "name": "stderr",
     "output_type": "stream",
     "text": [
      "/Users/olivierjeunen/Library/Python/3.9/lib/python/site-packages/scipy/sparse/_index.py:146: SparseEfficiencyWarning: Changing the sparsity structure of a csr_matrix is expensive. lil_matrix is more efficient.\n",
      "  self._set_arrayXarray(i, j, x)\n",
      "/Users/olivierjeunen/Library/Python/3.9/lib/python/site-packages/scipy/sparse/_index.py:146: SparseEfficiencyWarning: Changing the sparsity structure of a csr_matrix is expensive. lil_matrix is more efficient.\n",
      "  self._set_arrayXarray(i, j, x)\n"
     ]
    },
    {
     "name": "stdout",
     "output_type": "stream",
     "text": [
      "2023-11-15 10:10:36,270 - base - recpack - INFO - Fitting KUNN complete - Took 0.324s\n"
     ]
    },
    {
     "name": "stderr",
     "output_type": "stream",
     "text": [
      "/Users/olivierjeunen/Library/Python/3.9/lib/python/site-packages/scipy/sparse/_index.py:146: SparseEfficiencyWarning: Changing the sparsity structure of a csr_matrix is expensive. lil_matrix is more efficient.\n",
      "  self._set_arrayXarray(i, j, x)\n",
      "/Users/olivierjeunen/Library/Python/3.9/lib/python/site-packages/scipy/sparse/_index.py:146: SparseEfficiencyWarning: Changing the sparsity structure of a csr_matrix is expensive. lil_matrix is more efficient.\n",
      "  self._set_arrayXarray(i, j, x)\n",
      "/Users/olivierjeunen/Library/Python/3.9/lib/python/site-packages/scipy/sparse/_index.py:146: SparseEfficiencyWarning: Changing the sparsity structure of a csr_matrix is expensive. lil_matrix is more efficient.\n",
      "  self._set_arrayXarray(i, j, x)\n"
     ]
    },
    {
     "name": "stdout",
     "output_type": "stream",
     "text": [
      "2023-11-15 10:10:43,515 - base - recpack - INFO - Fitting KUNN complete - Took 0.332s\n"
     ]
    },
    {
     "name": "stderr",
     "output_type": "stream",
     "text": [
      "/Users/olivierjeunen/Library/Python/3.9/lib/python/site-packages/scipy/sparse/_index.py:146: SparseEfficiencyWarning: Changing the sparsity structure of a csr_matrix is expensive. lil_matrix is more efficient.\n",
      "  self._set_arrayXarray(i, j, x)\n",
      "/Users/olivierjeunen/Library/Python/3.9/lib/python/site-packages/scipy/sparse/_index.py:146: SparseEfficiencyWarning: Changing the sparsity structure of a csr_matrix is expensive. lil_matrix is more efficient.\n",
      "  self._set_arrayXarray(i, j, x)\n"
     ]
    },
    {
     "name": "stdout",
     "output_type": "stream",
     "text": [
      "2023-11-15 10:10:51,012 - base - recpack - INFO - Fitting KUNN complete - Took 0.349s\n"
     ]
    },
    {
     "name": "stderr",
     "output_type": "stream",
     "text": [
      "/Users/olivierjeunen/Library/Python/3.9/lib/python/site-packages/scipy/sparse/_index.py:146: SparseEfficiencyWarning: Changing the sparsity structure of a csr_matrix is expensive. lil_matrix is more efficient.\n",
      "  self._set_arrayXarray(i, j, x)\n"
     ]
    },
    {
     "name": "stdout",
     "output_type": "stream",
     "text": [
      "2023-11-15 10:10:58,827 - base - recpack - INFO - Fitting KUNN complete - Took 0.274s\n"
     ]
    },
    {
     "name": "stderr",
     "output_type": "stream",
     "text": [
      "/Users/olivierjeunen/Library/Python/3.9/lib/python/site-packages/scipy/sparse/_index.py:146: SparseEfficiencyWarning: Changing the sparsity structure of a csr_matrix is expensive. lil_matrix is more efficient.\n",
      "  self._set_arrayXarray(i, j, x)\n",
      "/Users/olivierjeunen/Library/Python/3.9/lib/python/site-packages/scipy/sparse/_index.py:146: SparseEfficiencyWarning: Changing the sparsity structure of a csr_matrix is expensive. lil_matrix is more efficient.\n",
      "  self._set_arrayXarray(i, j, x)\n"
     ]
    },
    {
     "name": "stdout",
     "output_type": "stream",
     "text": [
      "2023-11-15 10:11:06,272 - base - recpack - INFO - Fitting KUNN complete - Took 0.286s\n"
     ]
    },
    {
     "name": "stderr",
     "output_type": "stream",
     "text": [
      "/Users/olivierjeunen/Library/Python/3.9/lib/python/site-packages/scipy/sparse/_index.py:146: SparseEfficiencyWarning: Changing the sparsity structure of a csr_matrix is expensive. lil_matrix is more efficient.\n",
      "  self._set_arrayXarray(i, j, x)\n",
      "/Users/olivierjeunen/Library/Python/3.9/lib/python/site-packages/scipy/sparse/_index.py:146: SparseEfficiencyWarning: Changing the sparsity structure of a csr_matrix is expensive. lil_matrix is more efficient.\n",
      "  self._set_arrayXarray(i, j, x)\n"
     ]
    },
    {
     "name": "stdout",
     "output_type": "stream",
     "text": [
      "2023-11-15 10:11:13,730 - base - recpack - INFO - Fitting KUNN complete - Took 0.289s\n"
     ]
    },
    {
     "name": "stderr",
     "output_type": "stream",
     "text": [
      "/Users/olivierjeunen/Library/Python/3.9/lib/python/site-packages/scipy/sparse/_index.py:146: SparseEfficiencyWarning: Changing the sparsity structure of a csr_matrix is expensive. lil_matrix is more efficient.\n",
      "  self._set_arrayXarray(i, j, x)\n",
      "/Users/olivierjeunen/Library/Python/3.9/lib/python/site-packages/scipy/sparse/_index.py:146: SparseEfficiencyWarning: Changing the sparsity structure of a csr_matrix is expensive. lil_matrix is more efficient.\n",
      "  self._set_arrayXarray(i, j, x)\n"
     ]
    },
    {
     "name": "stdout",
     "output_type": "stream",
     "text": [
      "2023-11-15 10:11:21,041 - base - recpack - INFO - Fitting KUNN complete - Took 0.296s\n"
     ]
    },
    {
     "name": "stderr",
     "output_type": "stream",
     "text": [
      "/Users/olivierjeunen/Library/Python/3.9/lib/python/site-packages/scipy/sparse/_index.py:146: SparseEfficiencyWarning: Changing the sparsity structure of a csr_matrix is expensive. lil_matrix is more efficient.\n",
      "  self._set_arrayXarray(i, j, x)\n",
      "/Users/olivierjeunen/Library/Python/3.9/lib/python/site-packages/scipy/sparse/_index.py:146: SparseEfficiencyWarning: Changing the sparsity structure of a csr_matrix is expensive. lil_matrix is more efficient.\n",
      "  self._set_arrayXarray(i, j, x)\n"
     ]
    },
    {
     "name": "stdout",
     "output_type": "stream",
     "text": [
      "2023-11-15 10:11:28,100 - base - recpack - INFO - Fitting KUNN complete - Took 0.302s\n"
     ]
    },
    {
     "name": "stderr",
     "output_type": "stream",
     "text": [
      "/Users/olivierjeunen/Library/Python/3.9/lib/python/site-packages/scipy/sparse/_index.py:146: SparseEfficiencyWarning: Changing the sparsity structure of a csr_matrix is expensive. lil_matrix is more efficient.\n",
      "  self._set_arrayXarray(i, j, x)\n",
      "/Users/olivierjeunen/Library/Python/3.9/lib/python/site-packages/scipy/sparse/_index.py:146: SparseEfficiencyWarning: Changing the sparsity structure of a csr_matrix is expensive. lil_matrix is more efficient.\n",
      "  self._set_arrayXarray(i, j, x)\n"
     ]
    },
    {
     "name": "stdout",
     "output_type": "stream",
     "text": [
      "2023-11-15 10:11:35,314 - base - recpack - INFO - Fitting KUNN complete - Took 0.313s\n"
     ]
    },
    {
     "name": "stderr",
     "output_type": "stream",
     "text": [
      "/Users/olivierjeunen/Library/Python/3.9/lib/python/site-packages/scipy/sparse/_index.py:146: SparseEfficiencyWarning: Changing the sparsity structure of a csr_matrix is expensive. lil_matrix is more efficient.\n",
      "  self._set_arrayXarray(i, j, x)\n",
      "/Users/olivierjeunen/Library/Python/3.9/lib/python/site-packages/scipy/sparse/_index.py:146: SparseEfficiencyWarning: Changing the sparsity structure of a csr_matrix is expensive. lil_matrix is more efficient.\n",
      "  self._set_arrayXarray(i, j, x)\n"
     ]
    },
    {
     "name": "stdout",
     "output_type": "stream",
     "text": [
      "2023-11-15 10:11:42,647 - base - recpack - INFO - Fitting KUNN complete - Took 0.323s\n"
     ]
    },
    {
     "name": "stderr",
     "output_type": "stream",
     "text": [
      "/Users/olivierjeunen/Library/Python/3.9/lib/python/site-packages/scipy/sparse/_index.py:146: SparseEfficiencyWarning: Changing the sparsity structure of a csr_matrix is expensive. lil_matrix is more efficient.\n",
      "  self._set_arrayXarray(i, j, x)\n",
      "/Users/olivierjeunen/Library/Python/3.9/lib/python/site-packages/scipy/sparse/_index.py:146: SparseEfficiencyWarning: Changing the sparsity structure of a csr_matrix is expensive. lil_matrix is more efficient.\n",
      "  self._set_arrayXarray(i, j, x)\n",
      "/Users/olivierjeunen/Library/Python/3.9/lib/python/site-packages/scipy/sparse/_index.py:146: SparseEfficiencyWarning: Changing the sparsity structure of a csr_matrix is expensive. lil_matrix is more efficient.\n",
      "  self._set_arrayXarray(i, j, x)\n"
     ]
    },
    {
     "name": "stdout",
     "output_type": "stream",
     "text": [
      "2023-11-15 10:11:50,342 - base - recpack - INFO - Fitting KUNN complete - Took 0.332s\n"
     ]
    },
    {
     "name": "stderr",
     "output_type": "stream",
     "text": [
      "/Users/olivierjeunen/Library/Python/3.9/lib/python/site-packages/scipy/sparse/_index.py:146: SparseEfficiencyWarning: Changing the sparsity structure of a csr_matrix is expensive. lil_matrix is more efficient.\n",
      "  self._set_arrayXarray(i, j, x)\n",
      "/Users/olivierjeunen/Library/Python/3.9/lib/python/site-packages/scipy/sparse/_index.py:146: SparseEfficiencyWarning: Changing the sparsity structure of a csr_matrix is expensive. lil_matrix is more efficient.\n",
      "  self._set_arrayXarray(i, j, x)\n"
     ]
    },
    {
     "name": "stdout",
     "output_type": "stream",
     "text": [
      "2023-11-15 10:11:57,869 - base - recpack - INFO - Fitting KUNN complete - Took 0.341s\n"
     ]
    },
    {
     "name": "stderr",
     "output_type": "stream",
     "text": [
      "/Users/olivierjeunen/Library/Python/3.9/lib/python/site-packages/scipy/sparse/_index.py:146: SparseEfficiencyWarning: Changing the sparsity structure of a csr_matrix is expensive. lil_matrix is more efficient.\n",
      "  self._set_arrayXarray(i, j, x)\n"
     ]
    },
    {
     "name": "stdout",
     "output_type": "stream",
     "text": [
      "2023-11-15 10:12:05,397 - base - recpack - INFO - Fitting KUNN complete - Took 0.276s\n"
     ]
    },
    {
     "name": "stderr",
     "output_type": "stream",
     "text": [
      "/Users/olivierjeunen/Library/Python/3.9/lib/python/site-packages/scipy/sparse/_index.py:146: SparseEfficiencyWarning: Changing the sparsity structure of a csr_matrix is expensive. lil_matrix is more efficient.\n",
      "  self._set_arrayXarray(i, j, x)\n",
      "/Users/olivierjeunen/Library/Python/3.9/lib/python/site-packages/scipy/sparse/_index.py:146: SparseEfficiencyWarning: Changing the sparsity structure of a csr_matrix is expensive. lil_matrix is more efficient.\n",
      "  self._set_arrayXarray(i, j, x)\n"
     ]
    },
    {
     "name": "stdout",
     "output_type": "stream",
     "text": [
      "2023-11-15 10:12:12,380 - base - recpack - INFO - Fitting KUNN complete - Took 0.281s\n"
     ]
    },
    {
     "name": "stderr",
     "output_type": "stream",
     "text": [
      "/Users/olivierjeunen/Library/Python/3.9/lib/python/site-packages/scipy/sparse/_index.py:146: SparseEfficiencyWarning: Changing the sparsity structure of a csr_matrix is expensive. lil_matrix is more efficient.\n",
      "  self._set_arrayXarray(i, j, x)\n",
      "/Users/olivierjeunen/Library/Python/3.9/lib/python/site-packages/scipy/sparse/_index.py:146: SparseEfficiencyWarning: Changing the sparsity structure of a csr_matrix is expensive. lil_matrix is more efficient.\n",
      "  self._set_arrayXarray(i, j, x)\n"
     ]
    },
    {
     "name": "stdout",
     "output_type": "stream",
     "text": [
      "2023-11-15 10:12:19,492 - base - recpack - INFO - Fitting KUNN complete - Took 0.289s\n"
     ]
    },
    {
     "name": "stderr",
     "output_type": "stream",
     "text": [
      "/Users/olivierjeunen/Library/Python/3.9/lib/python/site-packages/scipy/sparse/_index.py:146: SparseEfficiencyWarning: Changing the sparsity structure of a csr_matrix is expensive. lil_matrix is more efficient.\n",
      "  self._set_arrayXarray(i, j, x)\n",
      "/Users/olivierjeunen/Library/Python/3.9/lib/python/site-packages/scipy/sparse/_index.py:146: SparseEfficiencyWarning: Changing the sparsity structure of a csr_matrix is expensive. lil_matrix is more efficient.\n",
      "  self._set_arrayXarray(i, j, x)\n"
     ]
    },
    {
     "name": "stdout",
     "output_type": "stream",
     "text": [
      "2023-11-15 10:12:26,964 - base - recpack - INFO - Fitting KUNN complete - Took 0.296s\n"
     ]
    },
    {
     "name": "stderr",
     "output_type": "stream",
     "text": [
      "/Users/olivierjeunen/Library/Python/3.9/lib/python/site-packages/scipy/sparse/_index.py:146: SparseEfficiencyWarning: Changing the sparsity structure of a csr_matrix is expensive. lil_matrix is more efficient.\n",
      "  self._set_arrayXarray(i, j, x)\n",
      "/Users/olivierjeunen/Library/Python/3.9/lib/python/site-packages/scipy/sparse/_index.py:146: SparseEfficiencyWarning: Changing the sparsity structure of a csr_matrix is expensive. lil_matrix is more efficient.\n",
      "  self._set_arrayXarray(i, j, x)\n"
     ]
    },
    {
     "name": "stdout",
     "output_type": "stream",
     "text": [
      "2023-11-15 10:12:34,245 - base - recpack - INFO - Fitting KUNN complete - Took 0.307s\n"
     ]
    },
    {
     "name": "stderr",
     "output_type": "stream",
     "text": [
      "/Users/olivierjeunen/Library/Python/3.9/lib/python/site-packages/scipy/sparse/_index.py:146: SparseEfficiencyWarning: Changing the sparsity structure of a csr_matrix is expensive. lil_matrix is more efficient.\n",
      "  self._set_arrayXarray(i, j, x)\n",
      "/Users/olivierjeunen/Library/Python/3.9/lib/python/site-packages/scipy/sparse/_index.py:146: SparseEfficiencyWarning: Changing the sparsity structure of a csr_matrix is expensive. lil_matrix is more efficient.\n",
      "  self._set_arrayXarray(i, j, x)\n"
     ]
    },
    {
     "name": "stdout",
     "output_type": "stream",
     "text": [
      "2023-11-15 10:12:41,515 - base - recpack - INFO - Fitting KUNN complete - Took 0.316s\n"
     ]
    },
    {
     "name": "stderr",
     "output_type": "stream",
     "text": [
      "/Users/olivierjeunen/Library/Python/3.9/lib/python/site-packages/scipy/sparse/_index.py:146: SparseEfficiencyWarning: Changing the sparsity structure of a csr_matrix is expensive. lil_matrix is more efficient.\n",
      "  self._set_arrayXarray(i, j, x)\n",
      "/Users/olivierjeunen/Library/Python/3.9/lib/python/site-packages/scipy/sparse/_index.py:146: SparseEfficiencyWarning: Changing the sparsity structure of a csr_matrix is expensive. lil_matrix is more efficient.\n",
      "  self._set_arrayXarray(i, j, x)\n",
      "/Users/olivierjeunen/Library/Python/3.9/lib/python/site-packages/scipy/sparse/_index.py:146: SparseEfficiencyWarning: Changing the sparsity structure of a csr_matrix is expensive. lil_matrix is more efficient.\n",
      "  self._set_arrayXarray(i, j, x)\n"
     ]
    },
    {
     "name": "stdout",
     "output_type": "stream",
     "text": [
      "2023-11-15 10:12:48,886 - base - recpack - INFO - Fitting KUNN complete - Took 0.326s\n"
     ]
    },
    {
     "name": "stderr",
     "output_type": "stream",
     "text": [
      "/Users/olivierjeunen/Library/Python/3.9/lib/python/site-packages/scipy/sparse/_index.py:146: SparseEfficiencyWarning: Changing the sparsity structure of a csr_matrix is expensive. lil_matrix is more efficient.\n",
      "  self._set_arrayXarray(i, j, x)\n",
      "/Users/olivierjeunen/Library/Python/3.9/lib/python/site-packages/scipy/sparse/_index.py:146: SparseEfficiencyWarning: Changing the sparsity structure of a csr_matrix is expensive. lil_matrix is more efficient.\n",
      "  self._set_arrayXarray(i, j, x)\n"
     ]
    },
    {
     "name": "stdout",
     "output_type": "stream",
     "text": [
      "2023-11-15 10:12:56,691 - base - recpack - INFO - Fitting KUNN complete - Took 0.376s\n"
     ]
    },
    {
     "name": "stderr",
     "output_type": "stream",
     "text": [
      "/Users/olivierjeunen/Library/Python/3.9/lib/python/site-packages/scipy/sparse/_index.py:146: SparseEfficiencyWarning: Changing the sparsity structure of a csr_matrix is expensive. lil_matrix is more efficient.\n",
      "  self._set_arrayXarray(i, j, x)\n",
      "/Users/olivierjeunen/Library/Python/3.9/lib/python/site-packages/scipy/sparse/_index.py:146: SparseEfficiencyWarning: Changing the sparsity structure of a csr_matrix is expensive. lil_matrix is more efficient.\n",
      "  self._set_arrayXarray(i, j, x)\n"
     ]
    },
    {
     "name": "stdout",
     "output_type": "stream",
     "text": [
      "2023-11-15 10:13:04,838 - base - recpack - INFO - Fitting KUNN complete - Took 0.344s\n"
     ]
    },
    {
     "name": "stderr",
     "output_type": "stream",
     "text": [
      "/Users/olivierjeunen/Library/Python/3.9/lib/python/site-packages/scipy/sparse/_index.py:146: SparseEfficiencyWarning: Changing the sparsity structure of a csr_matrix is expensive. lil_matrix is more efficient.\n",
      "  self._set_arrayXarray(i, j, x)\n"
     ]
    },
    {
     "name": "stdout",
     "output_type": "stream",
     "text": [
      "2023-11-15 10:13:12,859 - base - recpack - INFO - Fitting KUNN complete - Took 0.275s\n"
     ]
    },
    {
     "name": "stderr",
     "output_type": "stream",
     "text": [
      "/Users/olivierjeunen/Library/Python/3.9/lib/python/site-packages/scipy/sparse/_index.py:146: SparseEfficiencyWarning: Changing the sparsity structure of a csr_matrix is expensive. lil_matrix is more efficient.\n",
      "  self._set_arrayXarray(i, j, x)\n",
      "/Users/olivierjeunen/Library/Python/3.9/lib/python/site-packages/scipy/sparse/_index.py:146: SparseEfficiencyWarning: Changing the sparsity structure of a csr_matrix is expensive. lil_matrix is more efficient.\n",
      "  self._set_arrayXarray(i, j, x)\n"
     ]
    },
    {
     "name": "stdout",
     "output_type": "stream",
     "text": [
      "2023-11-15 10:13:20,155 - base - recpack - INFO - Fitting KUNN complete - Took 0.282s\n"
     ]
    },
    {
     "name": "stderr",
     "output_type": "stream",
     "text": [
      "/Users/olivierjeunen/Library/Python/3.9/lib/python/site-packages/scipy/sparse/_index.py:146: SparseEfficiencyWarning: Changing the sparsity structure of a csr_matrix is expensive. lil_matrix is more efficient.\n",
      "  self._set_arrayXarray(i, j, x)\n",
      "/Users/olivierjeunen/Library/Python/3.9/lib/python/site-packages/scipy/sparse/_index.py:146: SparseEfficiencyWarning: Changing the sparsity structure of a csr_matrix is expensive. lil_matrix is more efficient.\n",
      "  self._set_arrayXarray(i, j, x)\n"
     ]
    },
    {
     "name": "stdout",
     "output_type": "stream",
     "text": [
      "2023-11-15 10:13:27,482 - base - recpack - INFO - Fitting KUNN complete - Took 0.287s\n"
     ]
    },
    {
     "name": "stderr",
     "output_type": "stream",
     "text": [
      "/Users/olivierjeunen/Library/Python/3.9/lib/python/site-packages/scipy/sparse/_index.py:146: SparseEfficiencyWarning: Changing the sparsity structure of a csr_matrix is expensive. lil_matrix is more efficient.\n",
      "  self._set_arrayXarray(i, j, x)\n",
      "/Users/olivierjeunen/Library/Python/3.9/lib/python/site-packages/scipy/sparse/_index.py:146: SparseEfficiencyWarning: Changing the sparsity structure of a csr_matrix is expensive. lil_matrix is more efficient.\n",
      "  self._set_arrayXarray(i, j, x)\n"
     ]
    },
    {
     "name": "stdout",
     "output_type": "stream",
     "text": [
      "2023-11-15 10:13:34,817 - base - recpack - INFO - Fitting KUNN complete - Took 0.296s\n"
     ]
    },
    {
     "name": "stderr",
     "output_type": "stream",
     "text": [
      "/Users/olivierjeunen/Library/Python/3.9/lib/python/site-packages/scipy/sparse/_index.py:146: SparseEfficiencyWarning: Changing the sparsity structure of a csr_matrix is expensive. lil_matrix is more efficient.\n",
      "  self._set_arrayXarray(i, j, x)\n",
      "/Users/olivierjeunen/Library/Python/3.9/lib/python/site-packages/scipy/sparse/_index.py:146: SparseEfficiencyWarning: Changing the sparsity structure of a csr_matrix is expensive. lil_matrix is more efficient.\n",
      "  self._set_arrayXarray(i, j, x)\n"
     ]
    },
    {
     "name": "stdout",
     "output_type": "stream",
     "text": [
      "2023-11-15 10:13:42,168 - base - recpack - INFO - Fitting KUNN complete - Took 0.303s\n"
     ]
    },
    {
     "name": "stderr",
     "output_type": "stream",
     "text": [
      "/Users/olivierjeunen/Library/Python/3.9/lib/python/site-packages/scipy/sparse/_index.py:146: SparseEfficiencyWarning: Changing the sparsity structure of a csr_matrix is expensive. lil_matrix is more efficient.\n",
      "  self._set_arrayXarray(i, j, x)\n",
      "/Users/olivierjeunen/Library/Python/3.9/lib/python/site-packages/scipy/sparse/_index.py:146: SparseEfficiencyWarning: Changing the sparsity structure of a csr_matrix is expensive. lil_matrix is more efficient.\n",
      "  self._set_arrayXarray(i, j, x)\n"
     ]
    },
    {
     "name": "stdout",
     "output_type": "stream",
     "text": [
      "2023-11-15 10:13:49,588 - base - recpack - INFO - Fitting KUNN complete - Took 0.314s\n"
     ]
    },
    {
     "name": "stderr",
     "output_type": "stream",
     "text": [
      "/Users/olivierjeunen/Library/Python/3.9/lib/python/site-packages/scipy/sparse/_index.py:146: SparseEfficiencyWarning: Changing the sparsity structure of a csr_matrix is expensive. lil_matrix is more efficient.\n",
      "  self._set_arrayXarray(i, j, x)\n",
      "/Users/olivierjeunen/Library/Python/3.9/lib/python/site-packages/scipy/sparse/_index.py:146: SparseEfficiencyWarning: Changing the sparsity structure of a csr_matrix is expensive. lil_matrix is more efficient.\n",
      "  self._set_arrayXarray(i, j, x)\n"
     ]
    },
    {
     "name": "stdout",
     "output_type": "stream",
     "text": [
      "2023-11-15 10:13:57,074 - base - recpack - INFO - Fitting KUNN complete - Took 0.325s\n"
     ]
    },
    {
     "name": "stderr",
     "output_type": "stream",
     "text": [
      "/Users/olivierjeunen/Library/Python/3.9/lib/python/site-packages/scipy/sparse/_index.py:146: SparseEfficiencyWarning: Changing the sparsity structure of a csr_matrix is expensive. lil_matrix is more efficient.\n",
      "  self._set_arrayXarray(i, j, x)\n",
      "/Users/olivierjeunen/Library/Python/3.9/lib/python/site-packages/scipy/sparse/_index.py:146: SparseEfficiencyWarning: Changing the sparsity structure of a csr_matrix is expensive. lil_matrix is more efficient.\n",
      "  self._set_arrayXarray(i, j, x)\n",
      "/Users/olivierjeunen/Library/Python/3.9/lib/python/site-packages/scipy/sparse/_index.py:146: SparseEfficiencyWarning: Changing the sparsity structure of a csr_matrix is expensive. lil_matrix is more efficient.\n",
      "  self._set_arrayXarray(i, j, x)\n"
     ]
    },
    {
     "name": "stdout",
     "output_type": "stream",
     "text": [
      "2023-11-15 10:14:04,603 - base - recpack - INFO - Fitting KUNN complete - Took 0.337s\n"
     ]
    },
    {
     "name": "stderr",
     "output_type": "stream",
     "text": [
      "/Users/olivierjeunen/Library/Python/3.9/lib/python/site-packages/scipy/sparse/_index.py:146: SparseEfficiencyWarning: Changing the sparsity structure of a csr_matrix is expensive. lil_matrix is more efficient.\n",
      "  self._set_arrayXarray(i, j, x)\n",
      "/Users/olivierjeunen/Library/Python/3.9/lib/python/site-packages/scipy/sparse/_index.py:146: SparseEfficiencyWarning: Changing the sparsity structure of a csr_matrix is expensive. lil_matrix is more efficient.\n",
      "  self._set_arrayXarray(i, j, x)\n"
     ]
    },
    {
     "name": "stdout",
     "output_type": "stream",
     "text": [
      "2023-11-15 10:14:12,295 - base - recpack - INFO - Fitting KUNN complete - Took 0.343s\n"
     ]
    },
    {
     "name": "stderr",
     "output_type": "stream",
     "text": [
      "/Users/olivierjeunen/Library/Python/3.9/lib/python/site-packages/scipy/sparse/_index.py:146: SparseEfficiencyWarning: Changing the sparsity structure of a csr_matrix is expensive. lil_matrix is more efficient.\n",
      "  self._set_arrayXarray(i, j, x)\n"
     ]
    },
    {
     "name": "stdout",
     "output_type": "stream",
     "text": [
      "2023-11-15 10:14:19,927 - base - recpack - INFO - Fitting KUNN complete - Took 0.274s\n"
     ]
    },
    {
     "name": "stderr",
     "output_type": "stream",
     "text": [
      "/Users/olivierjeunen/Library/Python/3.9/lib/python/site-packages/scipy/sparse/_index.py:146: SparseEfficiencyWarning: Changing the sparsity structure of a csr_matrix is expensive. lil_matrix is more efficient.\n",
      "  self._set_arrayXarray(i, j, x)\n",
      "/Users/olivierjeunen/Library/Python/3.9/lib/python/site-packages/scipy/sparse/_index.py:146: SparseEfficiencyWarning: Changing the sparsity structure of a csr_matrix is expensive. lil_matrix is more efficient.\n",
      "  self._set_arrayXarray(i, j, x)\n"
     ]
    },
    {
     "name": "stdout",
     "output_type": "stream",
     "text": [
      "2023-11-15 10:14:26,991 - base - recpack - INFO - Fitting KUNN complete - Took 0.285s\n"
     ]
    },
    {
     "name": "stderr",
     "output_type": "stream",
     "text": [
      "/Users/olivierjeunen/Library/Python/3.9/lib/python/site-packages/scipy/sparse/_index.py:146: SparseEfficiencyWarning: Changing the sparsity structure of a csr_matrix is expensive. lil_matrix is more efficient.\n",
      "  self._set_arrayXarray(i, j, x)\n",
      "/Users/olivierjeunen/Library/Python/3.9/lib/python/site-packages/scipy/sparse/_index.py:146: SparseEfficiencyWarning: Changing the sparsity structure of a csr_matrix is expensive. lil_matrix is more efficient.\n",
      "  self._set_arrayXarray(i, j, x)\n"
     ]
    },
    {
     "name": "stdout",
     "output_type": "stream",
     "text": [
      "2023-11-15 10:14:34,427 - base - recpack - INFO - Fitting KUNN complete - Took 0.287s\n"
     ]
    },
    {
     "name": "stderr",
     "output_type": "stream",
     "text": [
      "/Users/olivierjeunen/Library/Python/3.9/lib/python/site-packages/scipy/sparse/_index.py:146: SparseEfficiencyWarning: Changing the sparsity structure of a csr_matrix is expensive. lil_matrix is more efficient.\n",
      "  self._set_arrayXarray(i, j, x)\n",
      "/Users/olivierjeunen/Library/Python/3.9/lib/python/site-packages/scipy/sparse/_index.py:146: SparseEfficiencyWarning: Changing the sparsity structure of a csr_matrix is expensive. lil_matrix is more efficient.\n",
      "  self._set_arrayXarray(i, j, x)\n"
     ]
    },
    {
     "name": "stdout",
     "output_type": "stream",
     "text": [
      "2023-11-15 10:14:41,833 - base - recpack - INFO - Fitting KUNN complete - Took 0.297s\n"
     ]
    },
    {
     "name": "stderr",
     "output_type": "stream",
     "text": [
      "/Users/olivierjeunen/Library/Python/3.9/lib/python/site-packages/scipy/sparse/_index.py:146: SparseEfficiencyWarning: Changing the sparsity structure of a csr_matrix is expensive. lil_matrix is more efficient.\n",
      "  self._set_arrayXarray(i, j, x)\n",
      "/Users/olivierjeunen/Library/Python/3.9/lib/python/site-packages/scipy/sparse/_index.py:146: SparseEfficiencyWarning: Changing the sparsity structure of a csr_matrix is expensive. lil_matrix is more efficient.\n",
      "  self._set_arrayXarray(i, j, x)\n"
     ]
    },
    {
     "name": "stdout",
     "output_type": "stream",
     "text": [
      "2023-11-15 10:14:49,188 - base - recpack - INFO - Fitting KUNN complete - Took 0.303s\n"
     ]
    },
    {
     "name": "stderr",
     "output_type": "stream",
     "text": [
      "/Users/olivierjeunen/Library/Python/3.9/lib/python/site-packages/scipy/sparse/_index.py:146: SparseEfficiencyWarning: Changing the sparsity structure of a csr_matrix is expensive. lil_matrix is more efficient.\n",
      "  self._set_arrayXarray(i, j, x)\n",
      "/Users/olivierjeunen/Library/Python/3.9/lib/python/site-packages/scipy/sparse/_index.py:146: SparseEfficiencyWarning: Changing the sparsity structure of a csr_matrix is expensive. lil_matrix is more efficient.\n",
      "  self._set_arrayXarray(i, j, x)\n"
     ]
    },
    {
     "name": "stdout",
     "output_type": "stream",
     "text": [
      "2023-11-15 10:14:56,607 - base - recpack - INFO - Fitting KUNN complete - Took 0.315s\n"
     ]
    },
    {
     "name": "stderr",
     "output_type": "stream",
     "text": [
      "/Users/olivierjeunen/Library/Python/3.9/lib/python/site-packages/scipy/sparse/_index.py:146: SparseEfficiencyWarning: Changing the sparsity structure of a csr_matrix is expensive. lil_matrix is more efficient.\n",
      "  self._set_arrayXarray(i, j, x)\n",
      "/Users/olivierjeunen/Library/Python/3.9/lib/python/site-packages/scipy/sparse/_index.py:146: SparseEfficiencyWarning: Changing the sparsity structure of a csr_matrix is expensive. lil_matrix is more efficient.\n",
      "  self._set_arrayXarray(i, j, x)\n",
      "/Users/olivierjeunen/Library/Python/3.9/lib/python/site-packages/scipy/sparse/_index.py:146: SparseEfficiencyWarning: Changing the sparsity structure of a csr_matrix is expensive. lil_matrix is more efficient.\n",
      "  self._set_arrayXarray(i, j, x)\n"
     ]
    },
    {
     "name": "stdout",
     "output_type": "stream",
     "text": [
      "2023-11-15 10:15:04,217 - base - recpack - INFO - Fitting KUNN complete - Took 0.347s\n"
     ]
    },
    {
     "name": "stderr",
     "output_type": "stream",
     "text": [
      "/Users/olivierjeunen/Library/Python/3.9/lib/python/site-packages/scipy/sparse/_index.py:146: SparseEfficiencyWarning: Changing the sparsity structure of a csr_matrix is expensive. lil_matrix is more efficient.\n",
      "  self._set_arrayXarray(i, j, x)\n",
      "/Users/olivierjeunen/Library/Python/3.9/lib/python/site-packages/scipy/sparse/_index.py:146: SparseEfficiencyWarning: Changing the sparsity structure of a csr_matrix is expensive. lil_matrix is more efficient.\n",
      "  self._set_arrayXarray(i, j, x)\n"
     ]
    },
    {
     "name": "stdout",
     "output_type": "stream",
     "text": [
      "2023-11-15 10:15:11,925 - base - recpack - INFO - Fitting KUNN complete - Took 0.341s\n"
     ]
    },
    {
     "name": "stderr",
     "output_type": "stream",
     "text": [
      "/Users/olivierjeunen/Library/Python/3.9/lib/python/site-packages/scipy/sparse/_index.py:146: SparseEfficiencyWarning: Changing the sparsity structure of a csr_matrix is expensive. lil_matrix is more efficient.\n",
      "  self._set_arrayXarray(i, j, x)\n",
      "/Users/olivierjeunen/Library/Python/3.9/lib/python/site-packages/scipy/sparse/_index.py:146: SparseEfficiencyWarning: Changing the sparsity structure of a csr_matrix is expensive. lil_matrix is more efficient.\n",
      "  self._set_arrayXarray(i, j, x)\n"
     ]
    },
    {
     "name": "stdout",
     "output_type": "stream",
     "text": [
      "2023-11-15 10:15:19,485 - base - recpack - INFO - Fitting KUNN complete - Took 0.342s\n"
     ]
    },
    {
     "name": "stderr",
     "output_type": "stream",
     "text": [
      "/Users/olivierjeunen/Library/Python/3.9/lib/python/site-packages/scipy/sparse/_index.py:146: SparseEfficiencyWarning: Changing the sparsity structure of a csr_matrix is expensive. lil_matrix is more efficient.\n",
      "  self._set_arrayXarray(i, j, x)\n"
     ]
    },
    {
     "name": "stdout",
     "output_type": "stream",
     "text": [
      "2023-11-15 10:15:27,032 - base - recpack - INFO - Fitting KUNN complete - Took 0.275s\n"
     ]
    },
    {
     "name": "stderr",
     "output_type": "stream",
     "text": [
      "/Users/olivierjeunen/Library/Python/3.9/lib/python/site-packages/scipy/sparse/_index.py:146: SparseEfficiencyWarning: Changing the sparsity structure of a csr_matrix is expensive. lil_matrix is more efficient.\n",
      "  self._set_arrayXarray(i, j, x)\n",
      "/Users/olivierjeunen/Library/Python/3.9/lib/python/site-packages/scipy/sparse/_index.py:146: SparseEfficiencyWarning: Changing the sparsity structure of a csr_matrix is expensive. lil_matrix is more efficient.\n",
      "  self._set_arrayXarray(i, j, x)\n"
     ]
    },
    {
     "name": "stdout",
     "output_type": "stream",
     "text": [
      "2023-11-15 10:15:34,310 - base - recpack - INFO - Fitting KUNN complete - Took 0.28s\n"
     ]
    },
    {
     "name": "stderr",
     "output_type": "stream",
     "text": [
      "/Users/olivierjeunen/Library/Python/3.9/lib/python/site-packages/scipy/sparse/_index.py:146: SparseEfficiencyWarning: Changing the sparsity structure of a csr_matrix is expensive. lil_matrix is more efficient.\n",
      "  self._set_arrayXarray(i, j, x)\n",
      "/Users/olivierjeunen/Library/Python/3.9/lib/python/site-packages/scipy/sparse/_index.py:146: SparseEfficiencyWarning: Changing the sparsity structure of a csr_matrix is expensive. lil_matrix is more efficient.\n",
      "  self._set_arrayXarray(i, j, x)\n"
     ]
    },
    {
     "name": "stdout",
     "output_type": "stream",
     "text": [
      "2023-11-15 10:15:41,503 - base - recpack - INFO - Fitting KUNN complete - Took 0.285s\n"
     ]
    },
    {
     "name": "stderr",
     "output_type": "stream",
     "text": [
      "/Users/olivierjeunen/Library/Python/3.9/lib/python/site-packages/scipy/sparse/_index.py:146: SparseEfficiencyWarning: Changing the sparsity structure of a csr_matrix is expensive. lil_matrix is more efficient.\n",
      "  self._set_arrayXarray(i, j, x)\n",
      "/Users/olivierjeunen/Library/Python/3.9/lib/python/site-packages/scipy/sparse/_index.py:146: SparseEfficiencyWarning: Changing the sparsity structure of a csr_matrix is expensive. lil_matrix is more efficient.\n",
      "  self._set_arrayXarray(i, j, x)\n"
     ]
    },
    {
     "name": "stdout",
     "output_type": "stream",
     "text": [
      "2023-11-15 10:15:48,966 - base - recpack - INFO - Fitting KUNN complete - Took 0.295s\n"
     ]
    },
    {
     "name": "stderr",
     "output_type": "stream",
     "text": [
      "/Users/olivierjeunen/Library/Python/3.9/lib/python/site-packages/scipy/sparse/_index.py:146: SparseEfficiencyWarning: Changing the sparsity structure of a csr_matrix is expensive. lil_matrix is more efficient.\n",
      "  self._set_arrayXarray(i, j, x)\n",
      "/Users/olivierjeunen/Library/Python/3.9/lib/python/site-packages/scipy/sparse/_index.py:146: SparseEfficiencyWarning: Changing the sparsity structure of a csr_matrix is expensive. lil_matrix is more efficient.\n",
      "  self._set_arrayXarray(i, j, x)\n"
     ]
    },
    {
     "name": "stdout",
     "output_type": "stream",
     "text": [
      "2023-11-15 10:15:56,551 - base - recpack - INFO - Fitting KUNN complete - Took 0.305s\n"
     ]
    },
    {
     "name": "stderr",
     "output_type": "stream",
     "text": [
      "/Users/olivierjeunen/Library/Python/3.9/lib/python/site-packages/scipy/sparse/_index.py:146: SparseEfficiencyWarning: Changing the sparsity structure of a csr_matrix is expensive. lil_matrix is more efficient.\n",
      "  self._set_arrayXarray(i, j, x)\n",
      "/Users/olivierjeunen/Library/Python/3.9/lib/python/site-packages/scipy/sparse/_index.py:146: SparseEfficiencyWarning: Changing the sparsity structure of a csr_matrix is expensive. lil_matrix is more efficient.\n",
      "  self._set_arrayXarray(i, j, x)\n"
     ]
    },
    {
     "name": "stdout",
     "output_type": "stream",
     "text": [
      "2023-11-15 10:16:04,039 - base - recpack - INFO - Fitting KUNN complete - Took 0.322s\n"
     ]
    },
    {
     "name": "stderr",
     "output_type": "stream",
     "text": [
      "/Users/olivierjeunen/Library/Python/3.9/lib/python/site-packages/scipy/sparse/_index.py:146: SparseEfficiencyWarning: Changing the sparsity structure of a csr_matrix is expensive. lil_matrix is more efficient.\n",
      "  self._set_arrayXarray(i, j, x)\n",
      "/Users/olivierjeunen/Library/Python/3.9/lib/python/site-packages/scipy/sparse/_index.py:146: SparseEfficiencyWarning: Changing the sparsity structure of a csr_matrix is expensive. lil_matrix is more efficient.\n",
      "  self._set_arrayXarray(i, j, x)\n"
     ]
    },
    {
     "name": "stdout",
     "output_type": "stream",
     "text": [
      "2023-11-15 10:16:11,658 - base - recpack - INFO - Fitting KUNN complete - Took 0.325s\n"
     ]
    },
    {
     "name": "stderr",
     "output_type": "stream",
     "text": [
      "/Users/olivierjeunen/Library/Python/3.9/lib/python/site-packages/scipy/sparse/_index.py:146: SparseEfficiencyWarning: Changing the sparsity structure of a csr_matrix is expensive. lil_matrix is more efficient.\n",
      "  self._set_arrayXarray(i, j, x)\n",
      "/Users/olivierjeunen/Library/Python/3.9/lib/python/site-packages/scipy/sparse/_index.py:146: SparseEfficiencyWarning: Changing the sparsity structure of a csr_matrix is expensive. lil_matrix is more efficient.\n",
      "  self._set_arrayXarray(i, j, x)\n",
      "/Users/olivierjeunen/Library/Python/3.9/lib/python/site-packages/scipy/sparse/_index.py:146: SparseEfficiencyWarning: Changing the sparsity structure of a csr_matrix is expensive. lil_matrix is more efficient.\n",
      "  self._set_arrayXarray(i, j, x)\n"
     ]
    },
    {
     "name": "stdout",
     "output_type": "stream",
     "text": [
      "2023-11-15 10:16:19,410 - base - recpack - INFO - Fitting KUNN complete - Took 0.334s\n"
     ]
    },
    {
     "name": "stderr",
     "output_type": "stream",
     "text": [
      "/Users/olivierjeunen/Library/Python/3.9/lib/python/site-packages/scipy/sparse/_index.py:146: SparseEfficiencyWarning: Changing the sparsity structure of a csr_matrix is expensive. lil_matrix is more efficient.\n",
      "  self._set_arrayXarray(i, j, x)\n",
      "/Users/olivierjeunen/Library/Python/3.9/lib/python/site-packages/scipy/sparse/_index.py:146: SparseEfficiencyWarning: Changing the sparsity structure of a csr_matrix is expensive. lil_matrix is more efficient.\n",
      "  self._set_arrayXarray(i, j, x)\n"
     ]
    },
    {
     "name": "stdout",
     "output_type": "stream",
     "text": [
      "2023-11-15 10:16:27,318 - base - recpack - INFO - Fitting KUNN complete - Took 0.352s\n"
     ]
    },
    {
     "name": "stderr",
     "output_type": "stream",
     "text": [
      "/Users/olivierjeunen/Library/Python/3.9/lib/python/site-packages/scipy/sparse/_index.py:146: SparseEfficiencyWarning: Changing the sparsity structure of a csr_matrix is expensive. lil_matrix is more efficient.\n",
      "  self._set_arrayXarray(i, j, x)\n"
     ]
    },
    {
     "name": "stdout",
     "output_type": "stream",
     "text": [
      "2023-11-15 10:16:35,114 - base - recpack - INFO - Fitting KUNN complete - Took 0.274s\n"
     ]
    },
    {
     "name": "stderr",
     "output_type": "stream",
     "text": [
      "/Users/olivierjeunen/Library/Python/3.9/lib/python/site-packages/scipy/sparse/_index.py:146: SparseEfficiencyWarning: Changing the sparsity structure of a csr_matrix is expensive. lil_matrix is more efficient.\n",
      "  self._set_arrayXarray(i, j, x)\n",
      "/Users/olivierjeunen/Library/Python/3.9/lib/python/site-packages/scipy/sparse/_index.py:146: SparseEfficiencyWarning: Changing the sparsity structure of a csr_matrix is expensive. lil_matrix is more efficient.\n",
      "  self._set_arrayXarray(i, j, x)\n"
     ]
    },
    {
     "name": "stdout",
     "output_type": "stream",
     "text": [
      "2023-11-15 10:16:42,338 - base - recpack - INFO - Fitting KUNN complete - Took 0.283s\n"
     ]
    },
    {
     "name": "stderr",
     "output_type": "stream",
     "text": [
      "/Users/olivierjeunen/Library/Python/3.9/lib/python/site-packages/scipy/sparse/_index.py:146: SparseEfficiencyWarning: Changing the sparsity structure of a csr_matrix is expensive. lil_matrix is more efficient.\n",
      "  self._set_arrayXarray(i, j, x)\n",
      "/Users/olivierjeunen/Library/Python/3.9/lib/python/site-packages/scipy/sparse/_index.py:146: SparseEfficiencyWarning: Changing the sparsity structure of a csr_matrix is expensive. lil_matrix is more efficient.\n",
      "  self._set_arrayXarray(i, j, x)\n"
     ]
    },
    {
     "name": "stdout",
     "output_type": "stream",
     "text": [
      "2023-11-15 10:16:49,830 - base - recpack - INFO - Fitting KUNN complete - Took 0.289s\n"
     ]
    },
    {
     "name": "stderr",
     "output_type": "stream",
     "text": [
      "/Users/olivierjeunen/Library/Python/3.9/lib/python/site-packages/scipy/sparse/_index.py:146: SparseEfficiencyWarning: Changing the sparsity structure of a csr_matrix is expensive. lil_matrix is more efficient.\n",
      "  self._set_arrayXarray(i, j, x)\n",
      "/Users/olivierjeunen/Library/Python/3.9/lib/python/site-packages/scipy/sparse/_index.py:146: SparseEfficiencyWarning: Changing the sparsity structure of a csr_matrix is expensive. lil_matrix is more efficient.\n",
      "  self._set_arrayXarray(i, j, x)\n"
     ]
    },
    {
     "name": "stdout",
     "output_type": "stream",
     "text": [
      "2023-11-15 10:16:57,277 - base - recpack - INFO - Fitting KUNN complete - Took 0.297s\n"
     ]
    },
    {
     "name": "stderr",
     "output_type": "stream",
     "text": [
      "/Users/olivierjeunen/Library/Python/3.9/lib/python/site-packages/scipy/sparse/_index.py:146: SparseEfficiencyWarning: Changing the sparsity structure of a csr_matrix is expensive. lil_matrix is more efficient.\n",
      "  self._set_arrayXarray(i, j, x)\n",
      "/Users/olivierjeunen/Library/Python/3.9/lib/python/site-packages/scipy/sparse/_index.py:146: SparseEfficiencyWarning: Changing the sparsity structure of a csr_matrix is expensive. lil_matrix is more efficient.\n",
      "  self._set_arrayXarray(i, j, x)\n"
     ]
    },
    {
     "name": "stdout",
     "output_type": "stream",
     "text": [
      "2023-11-15 10:17:04,995 - base - recpack - INFO - Fitting KUNN complete - Took 0.318s\n"
     ]
    },
    {
     "name": "stderr",
     "output_type": "stream",
     "text": [
      "/Users/olivierjeunen/Library/Python/3.9/lib/python/site-packages/scipy/sparse/_index.py:146: SparseEfficiencyWarning: Changing the sparsity structure of a csr_matrix is expensive. lil_matrix is more efficient.\n",
      "  self._set_arrayXarray(i, j, x)\n",
      "/Users/olivierjeunen/Library/Python/3.9/lib/python/site-packages/scipy/sparse/_index.py:146: SparseEfficiencyWarning: Changing the sparsity structure of a csr_matrix is expensive. lil_matrix is more efficient.\n",
      "  self._set_arrayXarray(i, j, x)\n"
     ]
    },
    {
     "name": "stdout",
     "output_type": "stream",
     "text": [
      "2023-11-15 10:17:12,401 - base - recpack - INFO - Fitting KUNN complete - Took 0.313s\n"
     ]
    },
    {
     "name": "stderr",
     "output_type": "stream",
     "text": [
      "/Users/olivierjeunen/Library/Python/3.9/lib/python/site-packages/scipy/sparse/_index.py:146: SparseEfficiencyWarning: Changing the sparsity structure of a csr_matrix is expensive. lil_matrix is more efficient.\n",
      "  self._set_arrayXarray(i, j, x)\n",
      "/Users/olivierjeunen/Library/Python/3.9/lib/python/site-packages/scipy/sparse/_index.py:146: SparseEfficiencyWarning: Changing the sparsity structure of a csr_matrix is expensive. lil_matrix is more efficient.\n",
      "  self._set_arrayXarray(i, j, x)\n",
      "/Users/olivierjeunen/Library/Python/3.9/lib/python/site-packages/scipy/sparse/_index.py:146: SparseEfficiencyWarning: Changing the sparsity structure of a csr_matrix is expensive. lil_matrix is more efficient.\n",
      "  self._set_arrayXarray(i, j, x)\n"
     ]
    },
    {
     "name": "stdout",
     "output_type": "stream",
     "text": [
      "2023-11-15 10:17:20,033 - base - recpack - INFO - Fitting KUNN complete - Took 0.326s\n"
     ]
    },
    {
     "name": "stderr",
     "output_type": "stream",
     "text": [
      "/Users/olivierjeunen/Library/Python/3.9/lib/python/site-packages/scipy/sparse/_index.py:146: SparseEfficiencyWarning: Changing the sparsity structure of a csr_matrix is expensive. lil_matrix is more efficient.\n",
      "  self._set_arrayXarray(i, j, x)\n",
      "/Users/olivierjeunen/Library/Python/3.9/lib/python/site-packages/scipy/sparse/_index.py:146: SparseEfficiencyWarning: Changing the sparsity structure of a csr_matrix is expensive. lil_matrix is more efficient.\n",
      "  self._set_arrayXarray(i, j, x)\n"
     ]
    },
    {
     "name": "stdout",
     "output_type": "stream",
     "text": [
      "2023-11-15 10:17:27,760 - base - recpack - INFO - Fitting KUNN complete - Took 0.332s\n"
     ]
    },
    {
     "name": "stderr",
     "output_type": "stream",
     "text": [
      "/Users/olivierjeunen/Library/Python/3.9/lib/python/site-packages/scipy/sparse/_index.py:146: SparseEfficiencyWarning: Changing the sparsity structure of a csr_matrix is expensive. lil_matrix is more efficient.\n",
      "  self._set_arrayXarray(i, j, x)\n",
      "/Users/olivierjeunen/Library/Python/3.9/lib/python/site-packages/scipy/sparse/_index.py:146: SparseEfficiencyWarning: Changing the sparsity structure of a csr_matrix is expensive. lil_matrix is more efficient.\n",
      "  self._set_arrayXarray(i, j, x)\n"
     ]
    },
    {
     "name": "stdout",
     "output_type": "stream",
     "text": [
      "2023-11-15 10:17:35,333 - base - recpack - INFO - Fitting KUNN complete - Took 0.342s\n"
     ]
    },
    {
     "name": "stderr",
     "output_type": "stream",
     "text": [
      "/Users/olivierjeunen/Library/Python/3.9/lib/python/site-packages/scipy/sparse/_index.py:146: SparseEfficiencyWarning: Changing the sparsity structure of a csr_matrix is expensive. lil_matrix is more efficient.\n",
      "  self._set_arrayXarray(i, j, x)\n"
     ]
    },
    {
     "name": "stdout",
     "output_type": "stream",
     "text": [
      "2023-11-15 10:17:44,152 - base - recpack - INFO - Fitting EASE complete - Took 1.47s\n"
     ]
    },
    {
     "name": "stderr",
     "output_type": "stream",
     "text": [
      "/Users/olivierjeunen/Library/Python/3.9/lib/python/site-packages/recpack/algorithms/base.py:279: UserWarning: EASE missing similar items for 3 items.\n",
      "  warnings.warn(f\"{self.name} missing similar items for {missing} items.\")\n"
     ]
    },
    {
     "name": "stdout",
     "output_type": "stream",
     "text": [
      "2023-11-15 10:17:48,649 - base - recpack - INFO - Fitting EASE complete - Took 1.42s\n"
     ]
    },
    {
     "name": "stderr",
     "output_type": "stream",
     "text": [
      "/Users/olivierjeunen/Library/Python/3.9/lib/python/site-packages/recpack/algorithms/base.py:279: UserWarning: EASE missing similar items for 3 items.\n",
      "  warnings.warn(f\"{self.name} missing similar items for {missing} items.\")\n"
     ]
    },
    {
     "name": "stdout",
     "output_type": "stream",
     "text": [
      "2023-11-15 10:17:53,152 - base - recpack - INFO - Fitting EASE complete - Took 1.43s\n"
     ]
    },
    {
     "name": "stderr",
     "output_type": "stream",
     "text": [
      "/Users/olivierjeunen/Library/Python/3.9/lib/python/site-packages/recpack/algorithms/base.py:279: UserWarning: EASE missing similar items for 3 items.\n",
      "  warnings.warn(f\"{self.name} missing similar items for {missing} items.\")\n"
     ]
    },
    {
     "name": "stdout",
     "output_type": "stream",
     "text": [
      "2023-11-15 10:17:57,693 - base - recpack - INFO - Fitting EASE complete - Took 1.47s\n"
     ]
    },
    {
     "name": "stderr",
     "output_type": "stream",
     "text": [
      "/Users/olivierjeunen/Library/Python/3.9/lib/python/site-packages/recpack/algorithms/base.py:279: UserWarning: EASE missing similar items for 3 items.\n",
      "  warnings.warn(f\"{self.name} missing similar items for {missing} items.\")\n"
     ]
    },
    {
     "name": "stdout",
     "output_type": "stream",
     "text": [
      "2023-11-15 10:18:02,229 - base - recpack - INFO - Fitting EASE complete - Took 1.46s\n"
     ]
    },
    {
     "name": "stderr",
     "output_type": "stream",
     "text": [
      "/Users/olivierjeunen/Library/Python/3.9/lib/python/site-packages/recpack/algorithms/base.py:279: UserWarning: EASE missing similar items for 3 items.\n",
      "  warnings.warn(f\"{self.name} missing similar items for {missing} items.\")\n"
     ]
    },
    {
     "name": "stdout",
     "output_type": "stream",
     "text": [
      "2023-11-15 10:18:06,891 - base - recpack - INFO - Fitting EASE complete - Took 1.52s\n"
     ]
    },
    {
     "name": "stderr",
     "output_type": "stream",
     "text": [
      "/Users/olivierjeunen/Library/Python/3.9/lib/python/site-packages/recpack/algorithms/base.py:279: UserWarning: EASE missing similar items for 3 items.\n",
      "  warnings.warn(f\"{self.name} missing similar items for {missing} items.\")\n"
     ]
    },
    {
     "name": "stdout",
     "output_type": "stream",
     "text": [
      "2023-11-15 10:18:11,473 - base - recpack - INFO - Fitting EASE complete - Took 1.51s\n"
     ]
    },
    {
     "name": "stderr",
     "output_type": "stream",
     "text": [
      "/Users/olivierjeunen/Library/Python/3.9/lib/python/site-packages/recpack/algorithms/base.py:279: UserWarning: EASE missing similar items for 3 items.\n",
      "  warnings.warn(f\"{self.name} missing similar items for {missing} items.\")\n"
     ]
    },
    {
     "name": "stdout",
     "output_type": "stream",
     "text": [
      "2023-11-15 10:18:16,008 - base - recpack - INFO - Fitting EASE complete - Took 1.45s\n"
     ]
    },
    {
     "name": "stderr",
     "output_type": "stream",
     "text": [
      "/Users/olivierjeunen/Library/Python/3.9/lib/python/site-packages/recpack/algorithms/base.py:279: UserWarning: EASE missing similar items for 3 items.\n",
      "  warnings.warn(f\"{self.name} missing similar items for {missing} items.\")\n"
     ]
    },
    {
     "name": "stdout",
     "output_type": "stream",
     "text": [
      "2023-11-15 10:18:20,509 - base - recpack - INFO - Fitting EASE complete - Took 1.42s\n"
     ]
    },
    {
     "name": "stderr",
     "output_type": "stream",
     "text": [
      "/Users/olivierjeunen/Library/Python/3.9/lib/python/site-packages/recpack/algorithms/base.py:279: UserWarning: EASE missing similar items for 3 items.\n",
      "  warnings.warn(f\"{self.name} missing similar items for {missing} items.\")\n"
     ]
    },
    {
     "name": "stdout",
     "output_type": "stream",
     "text": [
      "2023-11-15 10:18:25,077 - base - recpack - INFO - Fitting EASE complete - Took 1.48s\n"
     ]
    },
    {
     "name": "stderr",
     "output_type": "stream",
     "text": [
      "/Users/olivierjeunen/Library/Python/3.9/lib/python/site-packages/recpack/algorithms/base.py:279: UserWarning: EASE missing similar items for 3 items.\n",
      "  warnings.warn(f\"{self.name} missing similar items for {missing} items.\")\n"
     ]
    },
    {
     "name": "stdout",
     "output_type": "stream",
     "text": [
      "2023-11-15 10:18:29,635 - base - recpack - INFO - Fitting EASE complete - Took 1.48s\n"
     ]
    },
    {
     "name": "stderr",
     "output_type": "stream",
     "text": [
      "/Users/olivierjeunen/Library/Python/3.9/lib/python/site-packages/recpack/algorithms/base.py:279: UserWarning: EASE missing similar items for 3 items.\n",
      "  warnings.warn(f\"{self.name} missing similar items for {missing} items.\")\n"
     ]
    },
    {
     "name": "stdout",
     "output_type": "stream",
     "text": [
      "2023-11-15 10:18:34,223 - base - recpack - INFO - Fitting EASE complete - Took 1.51s\n"
     ]
    },
    {
     "name": "stderr",
     "output_type": "stream",
     "text": [
      "/Users/olivierjeunen/Library/Python/3.9/lib/python/site-packages/recpack/algorithms/base.py:279: UserWarning: EASE missing similar items for 3 items.\n",
      "  warnings.warn(f\"{self.name} missing similar items for {missing} items.\")\n"
     ]
    },
    {
     "name": "stdout",
     "output_type": "stream",
     "text": [
      "2023-11-15 10:18:38,935 - base - recpack - INFO - Fitting EASE complete - Took 1.62s\n"
     ]
    },
    {
     "name": "stderr",
     "output_type": "stream",
     "text": [
      "/Users/olivierjeunen/Library/Python/3.9/lib/python/site-packages/recpack/algorithms/base.py:279: UserWarning: EASE missing similar items for 3 items.\n",
      "  warnings.warn(f\"{self.name} missing similar items for {missing} items.\")\n"
     ]
    },
    {
     "name": "stdout",
     "output_type": "stream",
     "text": [
      "2023-11-15 10:18:43,591 - base - recpack - INFO - Fitting EASE complete - Took 1.56s\n"
     ]
    },
    {
     "name": "stderr",
     "output_type": "stream",
     "text": [
      "/Users/olivierjeunen/Library/Python/3.9/lib/python/site-packages/recpack/algorithms/base.py:279: UserWarning: EASE missing similar items for 3 items.\n",
      "  warnings.warn(f\"{self.name} missing similar items for {missing} items.\")\n"
     ]
    },
    {
     "name": "stdout",
     "output_type": "stream",
     "text": [
      "2023-11-15 10:18:48,306 - base - recpack - INFO - Fitting EASE complete - Took 1.61s\n"
     ]
    },
    {
     "name": "stderr",
     "output_type": "stream",
     "text": [
      "/Users/olivierjeunen/Library/Python/3.9/lib/python/site-packages/recpack/algorithms/base.py:279: UserWarning: EASE missing similar items for 3 items.\n",
      "  warnings.warn(f\"{self.name} missing similar items for {missing} items.\")\n"
     ]
    },
    {
     "name": "stdout",
     "output_type": "stream",
     "text": [
      "2023-11-15 10:18:52,837 - base - recpack - INFO - Fitting EASE complete - Took 1.42s\n"
     ]
    },
    {
     "name": "stderr",
     "output_type": "stream",
     "text": [
      "/Users/olivierjeunen/Library/Python/3.9/lib/python/site-packages/recpack/algorithms/base.py:279: UserWarning: EASE missing similar items for 3 items.\n",
      "  warnings.warn(f\"{self.name} missing similar items for {missing} items.\")\n"
     ]
    },
    {
     "name": "stdout",
     "output_type": "stream",
     "text": [
      "2023-11-15 10:18:57,432 - base - recpack - INFO - Fitting EASE complete - Took 1.5s\n"
     ]
    },
    {
     "name": "stderr",
     "output_type": "stream",
     "text": [
      "/Users/olivierjeunen/Library/Python/3.9/lib/python/site-packages/recpack/algorithms/base.py:279: UserWarning: EASE missing similar items for 3 items.\n",
      "  warnings.warn(f\"{self.name} missing similar items for {missing} items.\")\n"
     ]
    },
    {
     "name": "stdout",
     "output_type": "stream",
     "text": [
      "2023-11-15 10:19:02,090 - base - recpack - INFO - Fitting EASE complete - Took 1.57s\n"
     ]
    },
    {
     "name": "stderr",
     "output_type": "stream",
     "text": [
      "/Users/olivierjeunen/Library/Python/3.9/lib/python/site-packages/recpack/algorithms/base.py:279: UserWarning: EASE missing similar items for 3 items.\n",
      "  warnings.warn(f\"{self.name} missing similar items for {missing} items.\")\n"
     ]
    },
    {
     "name": "stdout",
     "output_type": "stream",
     "text": [
      "2023-11-15 10:19:06,858 - base - recpack - INFO - Fitting EASE complete - Took 1.63s\n"
     ]
    },
    {
     "name": "stderr",
     "output_type": "stream",
     "text": [
      "/Users/olivierjeunen/Library/Python/3.9/lib/python/site-packages/recpack/algorithms/base.py:279: UserWarning: EASE missing similar items for 3 items.\n",
      "  warnings.warn(f\"{self.name} missing similar items for {missing} items.\")\n"
     ]
    },
    {
     "name": "stdout",
     "output_type": "stream",
     "text": [
      "2023-11-15 10:19:11,501 - base - recpack - INFO - Fitting EASE complete - Took 1.54s\n"
     ]
    },
    {
     "name": "stderr",
     "output_type": "stream",
     "text": [
      "/Users/olivierjeunen/Library/Python/3.9/lib/python/site-packages/recpack/algorithms/base.py:279: UserWarning: EASE missing similar items for 3 items.\n",
      "  warnings.warn(f\"{self.name} missing similar items for {missing} items.\")\n"
     ]
    },
    {
     "name": "stdout",
     "output_type": "stream",
     "text": [
      "2023-11-15 10:19:16,176 - base - recpack - INFO - Fitting EASE complete - Took 1.58s\n"
     ]
    },
    {
     "name": "stderr",
     "output_type": "stream",
     "text": [
      "/Users/olivierjeunen/Library/Python/3.9/lib/python/site-packages/recpack/algorithms/base.py:279: UserWarning: EASE missing similar items for 3 items.\n",
      "  warnings.warn(f\"{self.name} missing similar items for {missing} items.\")\n"
     ]
    },
    {
     "name": "stdout",
     "output_type": "stream",
     "text": [
      "2023-11-15 10:19:20,745 - base - recpack - INFO - Fitting EASE complete - Took 1.47s\n"
     ]
    },
    {
     "name": "stderr",
     "output_type": "stream",
     "text": [
      "/Users/olivierjeunen/Library/Python/3.9/lib/python/site-packages/recpack/algorithms/base.py:279: UserWarning: EASE missing similar items for 3 items.\n",
      "  warnings.warn(f\"{self.name} missing similar items for {missing} items.\")\n"
     ]
    },
    {
     "name": "stdout",
     "output_type": "stream",
     "text": [
      "2023-11-15 10:19:25,354 - base - recpack - INFO - Fitting EASE complete - Took 1.51s\n"
     ]
    },
    {
     "name": "stderr",
     "output_type": "stream",
     "text": [
      "/Users/olivierjeunen/Library/Python/3.9/lib/python/site-packages/recpack/algorithms/base.py:279: UserWarning: EASE missing similar items for 3 items.\n",
      "  warnings.warn(f\"{self.name} missing similar items for {missing} items.\")\n"
     ]
    },
    {
     "name": "stdout",
     "output_type": "stream",
     "text": [
      "2023-11-15 10:19:29,969 - base - recpack - INFO - Fitting EASE complete - Took 1.5s\n"
     ]
    },
    {
     "name": "stderr",
     "output_type": "stream",
     "text": [
      "/Users/olivierjeunen/Library/Python/3.9/lib/python/site-packages/recpack/algorithms/base.py:279: UserWarning: EASE missing similar items for 3 items.\n",
      "  warnings.warn(f\"{self.name} missing similar items for {missing} items.\")\n"
     ]
    },
    {
     "name": "stdout",
     "output_type": "stream",
     "text": [
      "2023-11-15 10:19:34,631 - base - recpack - INFO - Fitting EASE complete - Took 1.57s\n"
     ]
    },
    {
     "name": "stderr",
     "output_type": "stream",
     "text": [
      "/Users/olivierjeunen/Library/Python/3.9/lib/python/site-packages/recpack/algorithms/base.py:279: UserWarning: EASE missing similar items for 3 items.\n",
      "  warnings.warn(f\"{self.name} missing similar items for {missing} items.\")\n"
     ]
    },
    {
     "name": "stdout",
     "output_type": "stream",
     "text": [
      "2023-11-15 10:19:39,303 - base - recpack - INFO - Fitting EASE complete - Took 1.57s\n"
     ]
    },
    {
     "name": "stderr",
     "output_type": "stream",
     "text": [
      "/Users/olivierjeunen/Library/Python/3.9/lib/python/site-packages/recpack/algorithms/base.py:279: UserWarning: EASE missing similar items for 3 items.\n",
      "  warnings.warn(f\"{self.name} missing similar items for {missing} items.\")\n"
     ]
    },
    {
     "name": "stdout",
     "output_type": "stream",
     "text": [
      "2023-11-15 10:19:43,985 - base - recpack - INFO - Fitting EASE complete - Took 1.58s\n"
     ]
    },
    {
     "name": "stderr",
     "output_type": "stream",
     "text": [
      "/Users/olivierjeunen/Library/Python/3.9/lib/python/site-packages/recpack/algorithms/base.py:279: UserWarning: EASE missing similar items for 3 items.\n",
      "  warnings.warn(f\"{self.name} missing similar items for {missing} items.\")\n"
     ]
    },
    {
     "name": "stdout",
     "output_type": "stream",
     "text": [
      "2023-11-15 10:19:48,673 - base - recpack - INFO - Fitting EASE complete - Took 1.59s\n"
     ]
    },
    {
     "name": "stderr",
     "output_type": "stream",
     "text": [
      "/Users/olivierjeunen/Library/Python/3.9/lib/python/site-packages/recpack/algorithms/base.py:279: UserWarning: EASE missing similar items for 3 items.\n",
      "  warnings.warn(f\"{self.name} missing similar items for {missing} items.\")\n"
     ]
    },
    {
     "name": "stdout",
     "output_type": "stream",
     "text": [
      "2023-11-15 10:19:53,389 - base - recpack - INFO - Fitting EASE complete - Took 1.6s\n"
     ]
    },
    {
     "name": "stderr",
     "output_type": "stream",
     "text": [
      "/Users/olivierjeunen/Library/Python/3.9/lib/python/site-packages/recpack/algorithms/base.py:279: UserWarning: EASE missing similar items for 3 items.\n",
      "  warnings.warn(f\"{self.name} missing similar items for {missing} items.\")\n"
     ]
    },
    {
     "name": "stdout",
     "output_type": "stream",
     "text": [
      "2023-11-15 10:19:57,975 - base - recpack - INFO - Fitting EASE complete - Took 1.48s\n"
     ]
    },
    {
     "name": "stderr",
     "output_type": "stream",
     "text": [
      "/Users/olivierjeunen/Library/Python/3.9/lib/python/site-packages/recpack/algorithms/base.py:279: UserWarning: EASE missing similar items for 3 items.\n",
      "  warnings.warn(f\"{self.name} missing similar items for {missing} items.\")\n"
     ]
    },
    {
     "name": "stdout",
     "output_type": "stream",
     "text": [
      "2023-11-15 10:20:02,676 - base - recpack - INFO - Fitting EASE complete - Took 1.52s\n"
     ]
    },
    {
     "name": "stderr",
     "output_type": "stream",
     "text": [
      "/Users/olivierjeunen/Library/Python/3.9/lib/python/site-packages/recpack/algorithms/base.py:279: UserWarning: EASE missing similar items for 3 items.\n",
      "  warnings.warn(f\"{self.name} missing similar items for {missing} items.\")\n"
     ]
    },
    {
     "name": "stdout",
     "output_type": "stream",
     "text": [
      "2023-11-15 10:20:07,386 - base - recpack - INFO - Fitting EASE complete - Took 1.57s\n"
     ]
    },
    {
     "name": "stderr",
     "output_type": "stream",
     "text": [
      "/Users/olivierjeunen/Library/Python/3.9/lib/python/site-packages/recpack/algorithms/base.py:279: UserWarning: EASE missing similar items for 3 items.\n",
      "  warnings.warn(f\"{self.name} missing similar items for {missing} items.\")\n"
     ]
    },
    {
     "name": "stdout",
     "output_type": "stream",
     "text": [
      "2023-11-15 10:20:12,015 - base - recpack - INFO - Fitting EASE complete - Took 1.53s\n"
     ]
    },
    {
     "name": "stderr",
     "output_type": "stream",
     "text": [
      "/Users/olivierjeunen/Library/Python/3.9/lib/python/site-packages/recpack/algorithms/base.py:279: UserWarning: EASE missing similar items for 3 items.\n",
      "  warnings.warn(f\"{self.name} missing similar items for {missing} items.\")\n"
     ]
    },
    {
     "name": "stdout",
     "output_type": "stream",
     "text": [
      "2023-11-15 10:20:16,647 - base - recpack - INFO - Fitting EASE complete - Took 1.52s\n"
     ]
    },
    {
     "name": "stderr",
     "output_type": "stream",
     "text": [
      "/Users/olivierjeunen/Library/Python/3.9/lib/python/site-packages/recpack/algorithms/base.py:279: UserWarning: EASE missing similar items for 3 items.\n",
      "  warnings.warn(f\"{self.name} missing similar items for {missing} items.\")\n"
     ]
    },
    {
     "name": "stdout",
     "output_type": "stream",
     "text": [
      "2023-11-15 10:20:21,277 - base - recpack - INFO - Fitting EASE complete - Took 1.53s\n"
     ]
    },
    {
     "name": "stderr",
     "output_type": "stream",
     "text": [
      "/Users/olivierjeunen/Library/Python/3.9/lib/python/site-packages/recpack/algorithms/base.py:279: UserWarning: EASE missing similar items for 3 items.\n",
      "  warnings.warn(f\"{self.name} missing similar items for {missing} items.\")\n"
     ]
    },
    {
     "name": "stdout",
     "output_type": "stream",
     "text": [
      "2023-11-15 10:20:25,904 - base - recpack - INFO - Fitting EASE complete - Took 1.53s\n"
     ]
    },
    {
     "name": "stderr",
     "output_type": "stream",
     "text": [
      "/Users/olivierjeunen/Library/Python/3.9/lib/python/site-packages/recpack/algorithms/base.py:279: UserWarning: EASE missing similar items for 3 items.\n",
      "  warnings.warn(f\"{self.name} missing similar items for {missing} items.\")\n"
     ]
    },
    {
     "name": "stdout",
     "output_type": "stream",
     "text": [
      "2023-11-15 10:20:30,607 - base - recpack - INFO - Fitting EASE complete - Took 1.6s\n"
     ]
    },
    {
     "name": "stderr",
     "output_type": "stream",
     "text": [
      "/Users/olivierjeunen/Library/Python/3.9/lib/python/site-packages/recpack/algorithms/base.py:279: UserWarning: EASE missing similar items for 3 items.\n",
      "  warnings.warn(f\"{self.name} missing similar items for {missing} items.\")\n"
     ]
    },
    {
     "name": "stdout",
     "output_type": "stream",
     "text": [
      "2023-11-15 10:20:35,265 - base - recpack - INFO - Fitting EASE complete - Took 1.56s\n"
     ]
    },
    {
     "name": "stderr",
     "output_type": "stream",
     "text": [
      "/Users/olivierjeunen/Library/Python/3.9/lib/python/site-packages/recpack/algorithms/base.py:279: UserWarning: EASE missing similar items for 3 items.\n",
      "  warnings.warn(f\"{self.name} missing similar items for {missing} items.\")\n"
     ]
    },
    {
     "name": "stdout",
     "output_type": "stream",
     "text": [
      "2023-11-15 10:20:39,952 - base - recpack - INFO - Fitting EASE complete - Took 1.59s\n"
     ]
    },
    {
     "name": "stderr",
     "output_type": "stream",
     "text": [
      "/Users/olivierjeunen/Library/Python/3.9/lib/python/site-packages/recpack/algorithms/base.py:279: UserWarning: EASE missing similar items for 3 items.\n",
      "  warnings.warn(f\"{self.name} missing similar items for {missing} items.\")\n"
     ]
    },
    {
     "name": "stdout",
     "output_type": "stream",
     "text": [
      "2023-11-15 10:20:44,607 - base - recpack - INFO - Fitting EASE complete - Took 1.55s\n"
     ]
    },
    {
     "name": "stderr",
     "output_type": "stream",
     "text": [
      "/Users/olivierjeunen/Library/Python/3.9/lib/python/site-packages/recpack/algorithms/base.py:279: UserWarning: EASE missing similar items for 3 items.\n",
      "  warnings.warn(f\"{self.name} missing similar items for {missing} items.\")\n"
     ]
    },
    {
     "name": "stdout",
     "output_type": "stream",
     "text": [
      "2023-11-15 10:20:49,263 - base - recpack - INFO - Fitting EASE complete - Took 1.55s\n"
     ]
    },
    {
     "name": "stderr",
     "output_type": "stream",
     "text": [
      "/Users/olivierjeunen/Library/Python/3.9/lib/python/site-packages/recpack/algorithms/base.py:279: UserWarning: EASE missing similar items for 3 items.\n",
      "  warnings.warn(f\"{self.name} missing similar items for {missing} items.\")\n"
     ]
    },
    {
     "name": "stdout",
     "output_type": "stream",
     "text": [
      "2023-11-15 10:20:53,951 - base - recpack - INFO - Fitting EASE complete - Took 1.59s\n"
     ]
    },
    {
     "name": "stderr",
     "output_type": "stream",
     "text": [
      "/Users/olivierjeunen/Library/Python/3.9/lib/python/site-packages/recpack/algorithms/base.py:279: UserWarning: EASE missing similar items for 3 items.\n",
      "  warnings.warn(f\"{self.name} missing similar items for {missing} items.\")\n"
     ]
    },
    {
     "name": "stdout",
     "output_type": "stream",
     "text": [
      "2023-11-15 10:20:58,513 - base - recpack - INFO - Fitting EASE complete - Took 1.45s\n"
     ]
    },
    {
     "name": "stderr",
     "output_type": "stream",
     "text": [
      "/Users/olivierjeunen/Library/Python/3.9/lib/python/site-packages/recpack/algorithms/base.py:279: UserWarning: EASE missing similar items for 3 items.\n",
      "  warnings.warn(f\"{self.name} missing similar items for {missing} items.\")\n"
     ]
    },
    {
     "name": "stdout",
     "output_type": "stream",
     "text": [
      "2023-11-15 10:21:03,164 - base - recpack - INFO - Fitting EASE complete - Took 1.56s\n"
     ]
    },
    {
     "name": "stderr",
     "output_type": "stream",
     "text": [
      "/Users/olivierjeunen/Library/Python/3.9/lib/python/site-packages/recpack/algorithms/base.py:279: UserWarning: EASE missing similar items for 3 items.\n",
      "  warnings.warn(f\"{self.name} missing similar items for {missing} items.\")\n"
     ]
    },
    {
     "name": "stdout",
     "output_type": "stream",
     "text": [
      "2023-11-15 10:21:07,885 - base - recpack - INFO - Fitting EASE complete - Took 1.6s\n"
     ]
    },
    {
     "name": "stderr",
     "output_type": "stream",
     "text": [
      "/Users/olivierjeunen/Library/Python/3.9/lib/python/site-packages/recpack/algorithms/base.py:279: UserWarning: EASE missing similar items for 3 items.\n",
      "  warnings.warn(f\"{self.name} missing similar items for {missing} items.\")\n"
     ]
    },
    {
     "name": "stdout",
     "output_type": "stream",
     "text": [
      "2023-11-15 10:21:12,540 - base - recpack - INFO - Fitting EASE complete - Took 1.55s\n"
     ]
    },
    {
     "name": "stderr",
     "output_type": "stream",
     "text": [
      "/Users/olivierjeunen/Library/Python/3.9/lib/python/site-packages/recpack/algorithms/base.py:279: UserWarning: EASE missing similar items for 3 items.\n",
      "  warnings.warn(f\"{self.name} missing similar items for {missing} items.\")\n"
     ]
    },
    {
     "name": "stdout",
     "output_type": "stream",
     "text": [
      "2023-11-15 10:21:17,171 - base - recpack - INFO - Fitting EASE complete - Took 1.52s\n"
     ]
    },
    {
     "name": "stderr",
     "output_type": "stream",
     "text": [
      "/Users/olivierjeunen/Library/Python/3.9/lib/python/site-packages/recpack/algorithms/base.py:279: UserWarning: EASE missing similar items for 3 items.\n",
      "  warnings.warn(f\"{self.name} missing similar items for {missing} items.\")\n"
     ]
    },
    {
     "name": "stdout",
     "output_type": "stream",
     "text": [
      "2023-11-15 10:21:21,905 - base - recpack - INFO - Fitting EASE complete - Took 1.61s\n"
     ]
    },
    {
     "name": "stderr",
     "output_type": "stream",
     "text": [
      "/Users/olivierjeunen/Library/Python/3.9/lib/python/site-packages/recpack/algorithms/base.py:279: UserWarning: EASE missing similar items for 3 items.\n",
      "  warnings.warn(f\"{self.name} missing similar items for {missing} items.\")\n"
     ]
    },
    {
     "name": "stdout",
     "output_type": "stream",
     "text": [
      "2023-11-15 10:21:26,598 - base - recpack - INFO - Fitting EASE complete - Took 1.59s\n"
     ]
    },
    {
     "name": "stderr",
     "output_type": "stream",
     "text": [
      "/Users/olivierjeunen/Library/Python/3.9/lib/python/site-packages/recpack/algorithms/base.py:279: UserWarning: EASE missing similar items for 3 items.\n",
      "  warnings.warn(f\"{self.name} missing similar items for {missing} items.\")\n"
     ]
    },
    {
     "name": "stdout",
     "output_type": "stream",
     "text": [
      "2023-11-15 10:21:31,220 - base - recpack - INFO - Fitting EASE complete - Took 1.52s\n"
     ]
    },
    {
     "name": "stderr",
     "output_type": "stream",
     "text": [
      "/Users/olivierjeunen/Library/Python/3.9/lib/python/site-packages/recpack/algorithms/base.py:279: UserWarning: EASE missing similar items for 3 items.\n",
      "  warnings.warn(f\"{self.name} missing similar items for {missing} items.\")\n"
     ]
    },
    {
     "name": "stdout",
     "output_type": "stream",
     "text": [
      "2023-11-15 10:21:35,909 - base - recpack - INFO - Fitting EASE complete - Took 1.59s\n"
     ]
    },
    {
     "name": "stderr",
     "output_type": "stream",
     "text": [
      "/Users/olivierjeunen/Library/Python/3.9/lib/python/site-packages/recpack/algorithms/base.py:279: UserWarning: EASE missing similar items for 3 items.\n",
      "  warnings.warn(f\"{self.name} missing similar items for {missing} items.\")\n"
     ]
    },
    {
     "name": "stdout",
     "output_type": "stream",
     "text": [
      "2023-11-15 10:21:40,526 - base - recpack - INFO - Fitting EASE complete - Took 1.51s\n"
     ]
    },
    {
     "name": "stderr",
     "output_type": "stream",
     "text": [
      "/Users/olivierjeunen/Library/Python/3.9/lib/python/site-packages/recpack/algorithms/base.py:279: UserWarning: EASE missing similar items for 3 items.\n",
      "  warnings.warn(f\"{self.name} missing similar items for {missing} items.\")\n"
     ]
    },
    {
     "name": "stdout",
     "output_type": "stream",
     "text": [
      "2023-11-15 10:21:45,132 - base - recpack - INFO - Fitting EASE complete - Took 1.51s\n"
     ]
    },
    {
     "name": "stderr",
     "output_type": "stream",
     "text": [
      "/Users/olivierjeunen/Library/Python/3.9/lib/python/site-packages/recpack/algorithms/base.py:279: UserWarning: EASE missing similar items for 3 items.\n",
      "  warnings.warn(f\"{self.name} missing similar items for {missing} items.\")\n"
     ]
    },
    {
     "name": "stdout",
     "output_type": "stream",
     "text": [
      "2023-11-15 10:21:49,853 - base - recpack - INFO - Fitting EASE complete - Took 1.63s\n"
     ]
    },
    {
     "name": "stderr",
     "output_type": "stream",
     "text": [
      "/Users/olivierjeunen/Library/Python/3.9/lib/python/site-packages/recpack/algorithms/base.py:279: UserWarning: EASE missing similar items for 3 items.\n",
      "  warnings.warn(f\"{self.name} missing similar items for {missing} items.\")\n"
     ]
    },
    {
     "name": "stdout",
     "output_type": "stream",
     "text": [
      "2023-11-15 10:21:54,525 - base - recpack - INFO - Fitting EASE complete - Took 1.57s\n"
     ]
    },
    {
     "name": "stderr",
     "output_type": "stream",
     "text": [
      "/Users/olivierjeunen/Library/Python/3.9/lib/python/site-packages/recpack/algorithms/base.py:279: UserWarning: EASE missing similar items for 3 items.\n",
      "  warnings.warn(f\"{self.name} missing similar items for {missing} items.\")\n"
     ]
    },
    {
     "name": "stdout",
     "output_type": "stream",
     "text": [
      "2023-11-15 10:21:59,148 - base - recpack - INFO - Fitting EASE complete - Took 1.52s\n"
     ]
    },
    {
     "name": "stderr",
     "output_type": "stream",
     "text": [
      "/Users/olivierjeunen/Library/Python/3.9/lib/python/site-packages/recpack/algorithms/base.py:279: UserWarning: EASE missing similar items for 3 items.\n",
      "  warnings.warn(f\"{self.name} missing similar items for {missing} items.\")\n"
     ]
    },
    {
     "name": "stdout",
     "output_type": "stream",
     "text": [
      "2023-11-15 10:22:04,234 - base - recpack - INFO - Fitting EASE complete - Took 1.97s\n"
     ]
    },
    {
     "name": "stderr",
     "output_type": "stream",
     "text": [
      "/Users/olivierjeunen/Library/Python/3.9/lib/python/site-packages/recpack/algorithms/base.py:279: UserWarning: EASE missing similar items for 3 items.\n",
      "  warnings.warn(f\"{self.name} missing similar items for {missing} items.\")\n"
     ]
    },
    {
     "name": "stdout",
     "output_type": "stream",
     "text": [
      "2023-11-15 10:22:08,792 - base - recpack - INFO - Fitting EASE complete - Took 1.43s\n"
     ]
    },
    {
     "name": "stderr",
     "output_type": "stream",
     "text": [
      "/Users/olivierjeunen/Library/Python/3.9/lib/python/site-packages/recpack/algorithms/base.py:279: UserWarning: EASE missing similar items for 3 items.\n",
      "  warnings.warn(f\"{self.name} missing similar items for {missing} items.\")\n"
     ]
    },
    {
     "name": "stdout",
     "output_type": "stream",
     "text": [
      "2023-11-15 10:22:13,358 - base - recpack - INFO - Fitting EASE complete - Took 1.46s\n"
     ]
    },
    {
     "name": "stderr",
     "output_type": "stream",
     "text": [
      "/Users/olivierjeunen/Library/Python/3.9/lib/python/site-packages/recpack/algorithms/base.py:279: UserWarning: EASE missing similar items for 3 items.\n",
      "  warnings.warn(f\"{self.name} missing similar items for {missing} items.\")\n"
     ]
    },
    {
     "name": "stdout",
     "output_type": "stream",
     "text": [
      "2023-11-15 10:22:17,974 - base - recpack - INFO - Fitting EASE complete - Took 1.52s\n"
     ]
    },
    {
     "name": "stderr",
     "output_type": "stream",
     "text": [
      "/Users/olivierjeunen/Library/Python/3.9/lib/python/site-packages/recpack/algorithms/base.py:279: UserWarning: EASE missing similar items for 3 items.\n",
      "  warnings.warn(f\"{self.name} missing similar items for {missing} items.\")\n"
     ]
    },
    {
     "name": "stdout",
     "output_type": "stream",
     "text": [
      "2023-11-15 10:22:22,576 - base - recpack - INFO - Fitting EASE complete - Took 1.5s\n"
     ]
    },
    {
     "name": "stderr",
     "output_type": "stream",
     "text": [
      "/Users/olivierjeunen/Library/Python/3.9/lib/python/site-packages/recpack/algorithms/base.py:279: UserWarning: EASE missing similar items for 3 items.\n",
      "  warnings.warn(f\"{self.name} missing similar items for {missing} items.\")\n"
     ]
    },
    {
     "name": "stdout",
     "output_type": "stream",
     "text": [
      "2023-11-15 10:22:27,232 - base - recpack - INFO - Fitting EASE complete - Took 1.55s\n"
     ]
    },
    {
     "name": "stderr",
     "output_type": "stream",
     "text": [
      "/Users/olivierjeunen/Library/Python/3.9/lib/python/site-packages/recpack/algorithms/base.py:279: UserWarning: EASE missing similar items for 3 items.\n",
      "  warnings.warn(f\"{self.name} missing similar items for {missing} items.\")\n"
     ]
    },
    {
     "name": "stdout",
     "output_type": "stream",
     "text": [
      "2023-11-15 10:22:31,917 - base - recpack - INFO - Fitting EASE complete - Took 1.59s\n"
     ]
    },
    {
     "name": "stderr",
     "output_type": "stream",
     "text": [
      "/Users/olivierjeunen/Library/Python/3.9/lib/python/site-packages/recpack/algorithms/base.py:279: UserWarning: EASE missing similar items for 3 items.\n",
      "  warnings.warn(f\"{self.name} missing similar items for {missing} items.\")\n"
     ]
    },
    {
     "name": "stdout",
     "output_type": "stream",
     "text": [
      "2023-11-15 10:22:36,608 - base - recpack - INFO - Fitting EASE complete - Took 1.59s\n"
     ]
    },
    {
     "name": "stderr",
     "output_type": "stream",
     "text": [
      "/Users/olivierjeunen/Library/Python/3.9/lib/python/site-packages/recpack/algorithms/base.py:279: UserWarning: EASE missing similar items for 3 items.\n",
      "  warnings.warn(f\"{self.name} missing similar items for {missing} items.\")\n"
     ]
    },
    {
     "name": "stdout",
     "output_type": "stream",
     "text": [
      "2023-11-15 10:22:41,288 - base - recpack - INFO - Fitting EASE complete - Took 1.59s\n"
     ]
    },
    {
     "name": "stderr",
     "output_type": "stream",
     "text": [
      "/Users/olivierjeunen/Library/Python/3.9/lib/python/site-packages/recpack/algorithms/base.py:279: UserWarning: EASE missing similar items for 3 items.\n",
      "  warnings.warn(f\"{self.name} missing similar items for {missing} items.\")\n"
     ]
    },
    {
     "name": "stdout",
     "output_type": "stream",
     "text": [
      "2023-11-15 10:22:45,975 - base - recpack - INFO - Fitting EASE complete - Took 1.58s\n"
     ]
    },
    {
     "name": "stderr",
     "output_type": "stream",
     "text": [
      "/Users/olivierjeunen/Library/Python/3.9/lib/python/site-packages/recpack/algorithms/base.py:279: UserWarning: EASE missing similar items for 3 items.\n",
      "  warnings.warn(f\"{self.name} missing similar items for {missing} items.\")\n"
     ]
    },
    {
     "name": "stdout",
     "output_type": "stream",
     "text": [
      "2023-11-15 10:22:51,035 - base - recpack - INFO - Fitting EASE complete - Took 1.9s\n"
     ]
    },
    {
     "name": "stderr",
     "output_type": "stream",
     "text": [
      "/Users/olivierjeunen/Library/Python/3.9/lib/python/site-packages/recpack/algorithms/base.py:279: UserWarning: EASE missing similar items for 3 items.\n",
      "  warnings.warn(f\"{self.name} missing similar items for {missing} items.\")\n"
     ]
    },
    {
     "name": "stdout",
     "output_type": "stream",
     "text": [
      "2023-11-15 10:22:55,839 - base - recpack - INFO - Fitting EASE complete - Took 1.69s\n"
     ]
    },
    {
     "name": "stderr",
     "output_type": "stream",
     "text": [
      "/Users/olivierjeunen/Library/Python/3.9/lib/python/site-packages/recpack/algorithms/base.py:279: UserWarning: EASE missing similar items for 3 items.\n",
      "  warnings.warn(f\"{self.name} missing similar items for {missing} items.\")\n"
     ]
    },
    {
     "name": "stdout",
     "output_type": "stream",
     "text": [
      "2023-11-15 10:23:00,587 - base - recpack - INFO - Fitting EASE complete - Took 1.62s\n"
     ]
    },
    {
     "name": "stderr",
     "output_type": "stream",
     "text": [
      "/Users/olivierjeunen/Library/Python/3.9/lib/python/site-packages/recpack/algorithms/base.py:279: UserWarning: EASE missing similar items for 3 items.\n",
      "  warnings.warn(f\"{self.name} missing similar items for {missing} items.\")\n"
     ]
    },
    {
     "name": "stdout",
     "output_type": "stream",
     "text": [
      "2023-11-15 10:23:06,069 - base - recpack - INFO - Fitting EASE complete - Took 2.36s\n"
     ]
    },
    {
     "name": "stderr",
     "output_type": "stream",
     "text": [
      "/Users/olivierjeunen/Library/Python/3.9/lib/python/site-packages/recpack/algorithms/base.py:279: UserWarning: EASE missing similar items for 3 items.\n",
      "  warnings.warn(f\"{self.name} missing similar items for {missing} items.\")\n"
     ]
    },
    {
     "name": "stdout",
     "output_type": "stream",
     "text": [
      "2023-11-15 10:23:10,748 - base - recpack - INFO - Fitting EASE complete - Took 1.57s\n"
     ]
    },
    {
     "name": "stderr",
     "output_type": "stream",
     "text": [
      "/Users/olivierjeunen/Library/Python/3.9/lib/python/site-packages/recpack/algorithms/base.py:279: UserWarning: EASE missing similar items for 3 items.\n",
      "  warnings.warn(f\"{self.name} missing similar items for {missing} items.\")\n"
     ]
    },
    {
     "name": "stdout",
     "output_type": "stream",
     "text": [
      "2023-11-15 10:23:15,514 - base - recpack - INFO - Fitting EASE complete - Took 1.65s\n"
     ]
    },
    {
     "name": "stderr",
     "output_type": "stream",
     "text": [
      "/Users/olivierjeunen/Library/Python/3.9/lib/python/site-packages/recpack/algorithms/base.py:279: UserWarning: EASE missing similar items for 3 items.\n",
      "  warnings.warn(f\"{self.name} missing similar items for {missing} items.\")\n"
     ]
    },
    {
     "name": "stdout",
     "output_type": "stream",
     "text": [
      "2023-11-15 10:23:20,288 - base - recpack - INFO - Fitting EASE complete - Took 1.65s\n"
     ]
    },
    {
     "name": "stderr",
     "output_type": "stream",
     "text": [
      "/Users/olivierjeunen/Library/Python/3.9/lib/python/site-packages/recpack/algorithms/base.py:279: UserWarning: EASE missing similar items for 3 items.\n",
      "  warnings.warn(f\"{self.name} missing similar items for {missing} items.\")\n"
     ]
    },
    {
     "name": "stdout",
     "output_type": "stream",
     "text": [
      "2023-11-15 10:23:25,050 - base - recpack - INFO - Fitting EASE complete - Took 1.64s\n"
     ]
    },
    {
     "name": "stderr",
     "output_type": "stream",
     "text": [
      "/Users/olivierjeunen/Library/Python/3.9/lib/python/site-packages/recpack/algorithms/base.py:279: UserWarning: EASE missing similar items for 3 items.\n",
      "  warnings.warn(f\"{self.name} missing similar items for {missing} items.\")\n"
     ]
    },
    {
     "name": "stdout",
     "output_type": "stream",
     "text": [
      "2023-11-15 10:23:29,798 - base - recpack - INFO - Fitting EASE complete - Took 1.63s\n"
     ]
    },
    {
     "name": "stderr",
     "output_type": "stream",
     "text": [
      "/Users/olivierjeunen/Library/Python/3.9/lib/python/site-packages/recpack/algorithms/base.py:279: UserWarning: EASE missing similar items for 3 items.\n",
      "  warnings.warn(f\"{self.name} missing similar items for {missing} items.\")\n"
     ]
    },
    {
     "name": "stdout",
     "output_type": "stream",
     "text": [
      "2023-11-15 10:23:34,504 - base - recpack - INFO - Fitting EASE complete - Took 1.59s\n"
     ]
    },
    {
     "name": "stderr",
     "output_type": "stream",
     "text": [
      "/Users/olivierjeunen/Library/Python/3.9/lib/python/site-packages/recpack/algorithms/base.py:279: UserWarning: EASE missing similar items for 3 items.\n",
      "  warnings.warn(f\"{self.name} missing similar items for {missing} items.\")\n"
     ]
    },
    {
     "name": "stdout",
     "output_type": "stream",
     "text": [
      "2023-11-15 10:23:39,323 - base - recpack - INFO - Fitting EASE complete - Took 1.7s\n"
     ]
    },
    {
     "name": "stderr",
     "output_type": "stream",
     "text": [
      "/Users/olivierjeunen/Library/Python/3.9/lib/python/site-packages/recpack/algorithms/base.py:279: UserWarning: EASE missing similar items for 3 items.\n",
      "  warnings.warn(f\"{self.name} missing similar items for {missing} items.\")\n"
     ]
    },
    {
     "name": "stdout",
     "output_type": "stream",
     "text": [
      "2023-11-15 10:23:44,061 - base - recpack - INFO - Fitting EASE complete - Took 1.62s\n"
     ]
    },
    {
     "name": "stderr",
     "output_type": "stream",
     "text": [
      "/Users/olivierjeunen/Library/Python/3.9/lib/python/site-packages/recpack/algorithms/base.py:279: UserWarning: EASE missing similar items for 3 items.\n",
      "  warnings.warn(f\"{self.name} missing similar items for {missing} items.\")\n"
     ]
    },
    {
     "name": "stdout",
     "output_type": "stream",
     "text": [
      "2023-11-15 10:23:48,866 - base - recpack - INFO - Fitting EASE complete - Took 1.69s\n"
     ]
    },
    {
     "name": "stderr",
     "output_type": "stream",
     "text": [
      "/Users/olivierjeunen/Library/Python/3.9/lib/python/site-packages/recpack/algorithms/base.py:279: UserWarning: EASE missing similar items for 3 items.\n",
      "  warnings.warn(f\"{self.name} missing similar items for {missing} items.\")\n"
     ]
    },
    {
     "name": "stdout",
     "output_type": "stream",
     "text": [
      "2023-11-15 10:23:53,609 - base - recpack - INFO - Fitting EASE complete - Took 1.64s\n"
     ]
    },
    {
     "name": "stderr",
     "output_type": "stream",
     "text": [
      "/Users/olivierjeunen/Library/Python/3.9/lib/python/site-packages/recpack/algorithms/base.py:279: UserWarning: EASE missing similar items for 3 items.\n",
      "  warnings.warn(f\"{self.name} missing similar items for {missing} items.\")\n"
     ]
    },
    {
     "name": "stdout",
     "output_type": "stream",
     "text": [
      "2023-11-15 10:23:58,338 - base - recpack - INFO - Fitting EASE complete - Took 1.61s\n"
     ]
    },
    {
     "name": "stderr",
     "output_type": "stream",
     "text": [
      "/Users/olivierjeunen/Library/Python/3.9/lib/python/site-packages/recpack/algorithms/base.py:279: UserWarning: EASE missing similar items for 3 items.\n",
      "  warnings.warn(f\"{self.name} missing similar items for {missing} items.\")\n"
     ]
    },
    {
     "name": "stdout",
     "output_type": "stream",
     "text": [
      "2023-11-15 10:24:03,048 - base - recpack - INFO - Fitting EASE complete - Took 1.59s\n"
     ]
    },
    {
     "name": "stderr",
     "output_type": "stream",
     "text": [
      "/Users/olivierjeunen/Library/Python/3.9/lib/python/site-packages/recpack/algorithms/base.py:279: UserWarning: EASE missing similar items for 3 items.\n",
      "  warnings.warn(f\"{self.name} missing similar items for {missing} items.\")\n"
     ]
    },
    {
     "name": "stdout",
     "output_type": "stream",
     "text": [
      "2023-11-15 10:24:07,909 - base - recpack - INFO - Fitting EASE complete - Took 1.73s\n"
     ]
    },
    {
     "name": "stderr",
     "output_type": "stream",
     "text": [
      "/Users/olivierjeunen/Library/Python/3.9/lib/python/site-packages/recpack/algorithms/base.py:279: UserWarning: EASE missing similar items for 3 items.\n",
      "  warnings.warn(f\"{self.name} missing similar items for {missing} items.\")\n"
     ]
    },
    {
     "name": "stdout",
     "output_type": "stream",
     "text": [
      "2023-11-15 10:24:12,678 - base - recpack - INFO - Fitting EASE complete - Took 1.66s\n"
     ]
    },
    {
     "name": "stderr",
     "output_type": "stream",
     "text": [
      "/Users/olivierjeunen/Library/Python/3.9/lib/python/site-packages/recpack/algorithms/base.py:279: UserWarning: EASE missing similar items for 3 items.\n",
      "  warnings.warn(f\"{self.name} missing similar items for {missing} items.\")\n"
     ]
    },
    {
     "name": "stdout",
     "output_type": "stream",
     "text": [
      "2023-11-15 10:24:17,624 - base - recpack - INFO - Fitting EASE complete - Took 1.83s\n"
     ]
    },
    {
     "name": "stderr",
     "output_type": "stream",
     "text": [
      "/Users/olivierjeunen/Library/Python/3.9/lib/python/site-packages/recpack/algorithms/base.py:279: UserWarning: EASE missing similar items for 3 items.\n",
      "  warnings.warn(f\"{self.name} missing similar items for {missing} items.\")\n"
     ]
    },
    {
     "name": "stdout",
     "output_type": "stream",
     "text": [
      "2023-11-15 10:24:22,706 - base - recpack - INFO - Fitting EASE complete - Took 1.96s\n"
     ]
    },
    {
     "name": "stderr",
     "output_type": "stream",
     "text": [
      "/Users/olivierjeunen/Library/Python/3.9/lib/python/site-packages/recpack/algorithms/base.py:279: UserWarning: EASE missing similar items for 3 items.\n",
      "  warnings.warn(f\"{self.name} missing similar items for {missing} items.\")\n"
     ]
    },
    {
     "name": "stdout",
     "output_type": "stream",
     "text": [
      "2023-11-15 10:24:28,165 - base - recpack - INFO - Fitting EASE complete - Took 2.1s\n"
     ]
    },
    {
     "name": "stderr",
     "output_type": "stream",
     "text": [
      "/Users/olivierjeunen/Library/Python/3.9/lib/python/site-packages/recpack/algorithms/base.py:279: UserWarning: EASE missing similar items for 3 items.\n",
      "  warnings.warn(f\"{self.name} missing similar items for {missing} items.\")\n"
     ]
    },
    {
     "name": "stdout",
     "output_type": "stream",
     "text": [
      "2023-11-15 10:24:32,915 - base - recpack - INFO - Fitting EASE complete - Took 1.55s\n"
     ]
    },
    {
     "name": "stderr",
     "output_type": "stream",
     "text": [
      "/Users/olivierjeunen/Library/Python/3.9/lib/python/site-packages/recpack/algorithms/base.py:279: UserWarning: EASE missing similar items for 3 items.\n",
      "  warnings.warn(f\"{self.name} missing similar items for {missing} items.\")\n"
     ]
    },
    {
     "name": "stdout",
     "output_type": "stream",
     "text": [
      "2023-11-15 10:24:37,516 - base - recpack - INFO - Fitting EASE complete - Took 1.45s\n"
     ]
    },
    {
     "name": "stderr",
     "output_type": "stream",
     "text": [
      "/Users/olivierjeunen/Library/Python/3.9/lib/python/site-packages/recpack/algorithms/base.py:279: UserWarning: EASE missing similar items for 3 items.\n",
      "  warnings.warn(f\"{self.name} missing similar items for {missing} items.\")\n"
     ]
    },
    {
     "name": "stdout",
     "output_type": "stream",
     "text": [
      "2023-11-15 10:24:42,058 - base - recpack - INFO - Fitting EASE complete - Took 1.41s\n"
     ]
    },
    {
     "name": "stderr",
     "output_type": "stream",
     "text": [
      "/Users/olivierjeunen/Library/Python/3.9/lib/python/site-packages/recpack/algorithms/base.py:279: UserWarning: EASE missing similar items for 3 items.\n",
      "  warnings.warn(f\"{self.name} missing similar items for {missing} items.\")\n"
     ]
    },
    {
     "name": "stdout",
     "output_type": "stream",
     "text": [
      "2023-11-15 10:24:46,803 - base - recpack - INFO - Fitting EASE complete - Took 1.51s\n"
     ]
    },
    {
     "name": "stderr",
     "output_type": "stream",
     "text": [
      "/Users/olivierjeunen/Library/Python/3.9/lib/python/site-packages/recpack/algorithms/base.py:279: UserWarning: EASE missing similar items for 3 items.\n",
      "  warnings.warn(f\"{self.name} missing similar items for {missing} items.\")\n"
     ]
    },
    {
     "name": "stdout",
     "output_type": "stream",
     "text": [
      "2023-11-15 10:24:51,459 - base - recpack - INFO - Fitting EASE complete - Took 1.5s\n"
     ]
    },
    {
     "name": "stderr",
     "output_type": "stream",
     "text": [
      "/Users/olivierjeunen/Library/Python/3.9/lib/python/site-packages/recpack/algorithms/base.py:279: UserWarning: EASE missing similar items for 3 items.\n",
      "  warnings.warn(f\"{self.name} missing similar items for {missing} items.\")\n"
     ]
    },
    {
     "name": "stdout",
     "output_type": "stream",
     "text": [
      "2023-11-15 10:24:56,135 - base - recpack - INFO - Fitting EASE complete - Took 1.55s\n"
     ]
    },
    {
     "name": "stderr",
     "output_type": "stream",
     "text": [
      "/Users/olivierjeunen/Library/Python/3.9/lib/python/site-packages/recpack/algorithms/base.py:279: UserWarning: EASE missing similar items for 3 items.\n",
      "  warnings.warn(f\"{self.name} missing similar items for {missing} items.\")\n"
     ]
    },
    {
     "name": "stdout",
     "output_type": "stream",
     "text": [
      "2023-11-15 10:25:00,751 - base - recpack - INFO - Fitting EASE complete - Took 1.52s\n"
     ]
    },
    {
     "name": "stderr",
     "output_type": "stream",
     "text": [
      "/Users/olivierjeunen/Library/Python/3.9/lib/python/site-packages/recpack/algorithms/base.py:279: UserWarning: EASE missing similar items for 3 items.\n",
      "  warnings.warn(f\"{self.name} missing similar items for {missing} items.\")\n"
     ]
    },
    {
     "name": "stdout",
     "output_type": "stream",
     "text": [
      "2023-11-15 10:25:05,664 - base - recpack - INFO - Fitting EASE complete - Took 1.8s\n"
     ]
    },
    {
     "name": "stderr",
     "output_type": "stream",
     "text": [
      "/Users/olivierjeunen/Library/Python/3.9/lib/python/site-packages/recpack/algorithms/base.py:279: UserWarning: EASE missing similar items for 3 items.\n",
      "  warnings.warn(f\"{self.name} missing similar items for {missing} items.\")\n"
     ]
    },
    {
     "name": "stdout",
     "output_type": "stream",
     "text": [
      "2023-11-15 10:25:10,246 - base - recpack - INFO - Fitting EASE complete - Took 1.48s\n"
     ]
    },
    {
     "name": "stderr",
     "output_type": "stream",
     "text": [
      "/Users/olivierjeunen/Library/Python/3.9/lib/python/site-packages/recpack/algorithms/base.py:279: UserWarning: EASE missing similar items for 3 items.\n",
      "  warnings.warn(f\"{self.name} missing similar items for {missing} items.\")\n"
     ]
    },
    {
     "name": "stdout",
     "output_type": "stream",
     "text": [
      "2023-11-15 10:25:14,823 - base - recpack - INFO - Fitting EASE complete - Took 1.42s\n"
     ]
    },
    {
     "name": "stderr",
     "output_type": "stream",
     "text": [
      "/Users/olivierjeunen/Library/Python/3.9/lib/python/site-packages/recpack/algorithms/base.py:279: UserWarning: EASE missing similar items for 3 items.\n",
      "  warnings.warn(f\"{self.name} missing similar items for {missing} items.\")\n"
     ]
    },
    {
     "name": "stdout",
     "output_type": "stream",
     "text": [
      "2023-11-15 10:25:19,457 - base - recpack - INFO - Fitting EASE complete - Took 1.54s\n"
     ]
    },
    {
     "name": "stderr",
     "output_type": "stream",
     "text": [
      "/Users/olivierjeunen/Library/Python/3.9/lib/python/site-packages/recpack/algorithms/base.py:279: UserWarning: EASE missing similar items for 3 items.\n",
      "  warnings.warn(f\"{self.name} missing similar items for {missing} items.\")\n"
     ]
    },
    {
     "name": "stdout",
     "output_type": "stream",
     "text": [
      "2023-11-15 10:25:24,106 - base - recpack - INFO - Fitting EASE complete - Took 1.55s\n"
     ]
    },
    {
     "name": "stderr",
     "output_type": "stream",
     "text": [
      "/Users/olivierjeunen/Library/Python/3.9/lib/python/site-packages/recpack/algorithms/base.py:279: UserWarning: EASE missing similar items for 3 items.\n",
      "  warnings.warn(f\"{self.name} missing similar items for {missing} items.\")\n"
     ]
    },
    {
     "name": "stdout",
     "output_type": "stream",
     "text": [
      "2023-11-15 10:25:28,769 - base - recpack - INFO - Fitting EASE complete - Took 1.56s\n"
     ]
    },
    {
     "name": "stderr",
     "output_type": "stream",
     "text": [
      "/Users/olivierjeunen/Library/Python/3.9/lib/python/site-packages/recpack/algorithms/base.py:279: UserWarning: EASE missing similar items for 3 items.\n",
      "  warnings.warn(f\"{self.name} missing similar items for {missing} items.\")\n"
     ]
    },
    {
     "name": "stdout",
     "output_type": "stream",
     "text": [
      "2023-11-15 10:25:33,435 - base - recpack - INFO - Fitting EASE complete - Took 1.56s\n"
     ]
    },
    {
     "name": "stderr",
     "output_type": "stream",
     "text": [
      "/Users/olivierjeunen/Library/Python/3.9/lib/python/site-packages/recpack/algorithms/base.py:279: UserWarning: EASE missing similar items for 3 items.\n",
      "  warnings.warn(f\"{self.name} missing similar items for {missing} items.\")\n"
     ]
    },
    {
     "name": "stdout",
     "output_type": "stream",
     "text": [
      "2023-11-15 10:25:38,068 - base - recpack - INFO - Fitting EASE complete - Took 1.54s\n"
     ]
    },
    {
     "name": "stderr",
     "output_type": "stream",
     "text": [
      "/Users/olivierjeunen/Library/Python/3.9/lib/python/site-packages/recpack/algorithms/base.py:279: UserWarning: EASE missing similar items for 3 items.\n",
      "  warnings.warn(f\"{self.name} missing similar items for {missing} items.\")\n"
     ]
    },
    {
     "name": "stdout",
     "output_type": "stream",
     "text": [
      "2023-11-15 10:25:42,714 - base - recpack - INFO - Fitting EASE complete - Took 1.56s\n"
     ]
    },
    {
     "name": "stderr",
     "output_type": "stream",
     "text": [
      "/Users/olivierjeunen/Library/Python/3.9/lib/python/site-packages/recpack/algorithms/base.py:279: UserWarning: EASE missing similar items for 3 items.\n",
      "  warnings.warn(f\"{self.name} missing similar items for {missing} items.\")\n"
     ]
    },
    {
     "name": "stdout",
     "output_type": "stream",
     "text": [
      "2023-11-15 10:25:47,330 - base - recpack - INFO - Fitting EASE complete - Took 1.52s\n"
     ]
    },
    {
     "name": "stderr",
     "output_type": "stream",
     "text": [
      "/Users/olivierjeunen/Library/Python/3.9/lib/python/site-packages/recpack/algorithms/base.py:279: UserWarning: EASE missing similar items for 3 items.\n",
      "  warnings.warn(f\"{self.name} missing similar items for {missing} items.\")\n"
     ]
    },
    {
     "name": "stdout",
     "output_type": "stream",
     "text": [
      "2023-11-15 10:25:52,023 - base - recpack - INFO - Fitting EASE complete - Took 1.6s\n"
     ]
    },
    {
     "name": "stderr",
     "output_type": "stream",
     "text": [
      "/Users/olivierjeunen/Library/Python/3.9/lib/python/site-packages/recpack/algorithms/base.py:279: UserWarning: EASE missing similar items for 3 items.\n",
      "  warnings.warn(f\"{self.name} missing similar items for {missing} items.\")\n"
     ]
    },
    {
     "name": "stdout",
     "output_type": "stream",
     "text": [
      "2023-11-15 10:25:56,647 - base - recpack - INFO - Fitting EASE complete - Took 1.52s\n"
     ]
    },
    {
     "name": "stderr",
     "output_type": "stream",
     "text": [
      "/Users/olivierjeunen/Library/Python/3.9/lib/python/site-packages/recpack/algorithms/base.py:279: UserWarning: EASE missing similar items for 3 items.\n",
      "  warnings.warn(f\"{self.name} missing similar items for {missing} items.\")\n"
     ]
    },
    {
     "name": "stdout",
     "output_type": "stream",
     "text": [
      "2023-11-15 10:26:01,276 - base - recpack - INFO - Fitting EASE complete - Took 1.53s\n"
     ]
    },
    {
     "name": "stderr",
     "output_type": "stream",
     "text": [
      "/Users/olivierjeunen/Library/Python/3.9/lib/python/site-packages/recpack/algorithms/base.py:279: UserWarning: EASE missing similar items for 3 items.\n",
      "  warnings.warn(f\"{self.name} missing similar items for {missing} items.\")\n"
     ]
    },
    {
     "name": "stdout",
     "output_type": "stream",
     "text": [
      "2023-11-15 10:26:06,580 - base - recpack - INFO - Fitting EASE complete - Took 2.18s\n"
     ]
    },
    {
     "name": "stderr",
     "output_type": "stream",
     "text": [
      "/Users/olivierjeunen/Library/Python/3.9/lib/python/site-packages/recpack/algorithms/base.py:279: UserWarning: EASE missing similar items for 3 items.\n",
      "  warnings.warn(f\"{self.name} missing similar items for {missing} items.\")\n"
     ]
    },
    {
     "name": "stdout",
     "output_type": "stream",
     "text": [
      "2023-11-15 10:26:11,097 - base - recpack - INFO - Fitting EASE complete - Took 1.43s\n"
     ]
    },
    {
     "name": "stderr",
     "output_type": "stream",
     "text": [
      "/Users/olivierjeunen/Library/Python/3.9/lib/python/site-packages/recpack/algorithms/base.py:279: UserWarning: EASE missing similar items for 3 items.\n",
      "  warnings.warn(f\"{self.name} missing similar items for {missing} items.\")\n"
     ]
    },
    {
     "name": "stdout",
     "output_type": "stream",
     "text": [
      "2023-11-15 10:26:15,659 - base - recpack - INFO - Fitting EASE complete - Took 1.47s\n"
     ]
    },
    {
     "name": "stderr",
     "output_type": "stream",
     "text": [
      "/Users/olivierjeunen/Library/Python/3.9/lib/python/site-packages/recpack/algorithms/base.py:279: UserWarning: EASE missing similar items for 3 items.\n",
      "  warnings.warn(f\"{self.name} missing similar items for {missing} items.\")\n"
     ]
    },
    {
     "name": "stdout",
     "output_type": "stream",
     "text": [
      "2023-11-15 10:26:20,256 - base - recpack - INFO - Fitting EASE complete - Took 1.5s\n"
     ]
    },
    {
     "name": "stderr",
     "output_type": "stream",
     "text": [
      "/Users/olivierjeunen/Library/Python/3.9/lib/python/site-packages/recpack/algorithms/base.py:279: UserWarning: EASE missing similar items for 3 items.\n",
      "  warnings.warn(f\"{self.name} missing similar items for {missing} items.\")\n"
     ]
    },
    {
     "data": {
      "application/vnd.jupyter.widget-view+json": {
       "model_id": "15af4a6fdee1449b8c264ab2f770a327",
       "version_major": 2,
       "version_minor": 0
      },
      "text/plain": [
       "  0%|          | 0/1 [00:00<?, ?it/s]"
      ]
     },
     "metadata": {},
     "output_type": "display_data"
    },
    {
     "data": {
      "text/html": [
       "<div>\n",
       "<style scoped>\n",
       "    .dataframe tbody tr th:only-of-type {\n",
       "        vertical-align: middle;\n",
       "    }\n",
       "\n",
       "    .dataframe tbody tr th {\n",
       "        vertical-align: top;\n",
       "    }\n",
       "\n",
       "    .dataframe thead th {\n",
       "        text-align: right;\n",
       "    }\n",
       "</style>\n",
       "<table border=\"1\" class=\"dataframe\">\n",
       "  <thead>\n",
       "    <tr style=\"text-align: right;\">\n",
       "      <th></th>\n",
       "      <th>NDCGK_100</th>\n",
       "      <th>DCGK_100</th>\n",
       "    </tr>\n",
       "  </thead>\n",
       "  <tbody>\n",
       "    <tr>\n",
       "      <th>KUNN(Ki=70,Ku=70)</th>\n",
       "      <td>0.447293</td>\n",
       "      <td>4.955154</td>\n",
       "    </tr>\n",
       "    <tr>\n",
       "      <th>KUNN(Ki=75,Ku=70)</th>\n",
       "      <td>0.448054</td>\n",
       "      <td>4.963528</td>\n",
       "    </tr>\n",
       "    <tr>\n",
       "      <th>KUNN(Ki=80,Ku=70)</th>\n",
       "      <td>0.448097</td>\n",
       "      <td>4.964685</td>\n",
       "    </tr>\n",
       "    <tr>\n",
       "      <th>KUNN(Ki=85,Ku=70)</th>\n",
       "      <td>0.449146</td>\n",
       "      <td>4.973631</td>\n",
       "    </tr>\n",
       "    <tr>\n",
       "      <th>KUNN(Ki=90,Ku=70)</th>\n",
       "      <td>0.449767</td>\n",
       "      <td>4.978514</td>\n",
       "    </tr>\n",
       "    <tr>\n",
       "      <th>...</th>\n",
       "      <td>...</td>\n",
       "      <td>...</td>\n",
       "    </tr>\n",
       "    <tr>\n",
       "      <th>EASE(alpha=0,density=None,l2=1560.0)</th>\n",
       "      <td>0.447419</td>\n",
       "      <td>4.975908</td>\n",
       "    </tr>\n",
       "    <tr>\n",
       "      <th>EASE(alpha=0,density=None,l2=1570.0)</th>\n",
       "      <td>0.447298</td>\n",
       "      <td>4.974461</td>\n",
       "    </tr>\n",
       "    <tr>\n",
       "      <th>EASE(alpha=0,density=None,l2=1580.0)</th>\n",
       "      <td>0.447230</td>\n",
       "      <td>4.973534</td>\n",
       "    </tr>\n",
       "    <tr>\n",
       "      <th>EASE(alpha=0,density=None,l2=1590.0)</th>\n",
       "      <td>0.447173</td>\n",
       "      <td>4.972941</td>\n",
       "    </tr>\n",
       "    <tr>\n",
       "      <th>EASE(alpha=0,density=None,l2=1600.0)</th>\n",
       "      <td>0.447056</td>\n",
       "      <td>4.971758</td>\n",
       "    </tr>\n",
       "  </tbody>\n",
       "</table>\n",
       "<p>192 rows × 2 columns</p>\n",
       "</div>"
      ],
      "text/plain": [
       "                                      NDCGK_100  DCGK_100\n",
       "KUNN(Ki=70,Ku=70)                      0.447293  4.955154\n",
       "KUNN(Ki=75,Ku=70)                      0.448054  4.963528\n",
       "KUNN(Ki=80,Ku=70)                      0.448097  4.964685\n",
       "KUNN(Ki=85,Ku=70)                      0.449146  4.973631\n",
       "KUNN(Ki=90,Ku=70)                      0.449767  4.978514\n",
       "...                                         ...       ...\n",
       "EASE(alpha=0,density=None,l2=1560.0)   0.447419  4.975908\n",
       "EASE(alpha=0,density=None,l2=1570.0)   0.447298  4.974461\n",
       "EASE(alpha=0,density=None,l2=1580.0)   0.447230  4.973534\n",
       "EASE(alpha=0,density=None,l2=1590.0)   0.447173  4.972941\n",
       "EASE(alpha=0,density=None,l2=1600.0)   0.447056  4.971758\n",
       "\n",
       "[192 rows x 2 columns]"
      ]
     },
     "metadata": {},
     "output_type": "display_data"
    },
    {
     "data": {
      "image/png": "[encoded data removed]",
      "text/plain": [
       "<Figure size 650x300 with 1 Axes>"
      ]
     },
     "metadata": {},
     "output_type": "display_data"
    }
   ],
   "source": [
    "K=100\n",
    "D, ND = collect_metrics(scenarios, K)"
   ]
  },
  {
   "cell_type": "code",
   "execution_count": 7,
   "id": "40c11c5d",
   "metadata": {},
   "outputs": [
    {
     "data": {
      "text/plain": [
       "PearsonRResult(statistic=0.6324764592773364, pvalue=7.588684129294283e-23)"
      ]
     },
     "execution_count": 7,
     "metadata": {},
     "output_type": "execute_result"
    }
   ],
   "source": [
    "pearsonr(D,ND)"
   ]
  },
  {
   "cell_type": "code",
   "execution_count": 8,
   "id": "397f7a2d",
   "metadata": {},
   "outputs": [
    {
     "data": {
      "text/plain": [
       "SignificanceResult(statistic=0.49727312390924955, pvalue=1.282702452475934e-24)"
      ]
     },
     "execution_count": 8,
     "metadata": {},
     "output_type": "execute_result"
    }
   ],
   "source": [
    "kendalltau(D, ND)"
   ]
  }
 ],
 "metadata": {
  "kernelspec": {
   "display_name": "Python 3 (ipykernel)",
   "language": "python",
   "name": "python3"
  },
  "language_info": {
   "codemirror_mode": {
    "name": "ipython",
    "version": 3
   },
   "file_extension": ".py",
   "mimetype": "text/x-python",
   "name": "python",
   "nbconvert_exporter": "python",
   "pygments_lexer": "ipython3",
   "version": "3.9.6"
  }
 },
 "nbformat": 4,
 "nbformat_minor": 5
}
